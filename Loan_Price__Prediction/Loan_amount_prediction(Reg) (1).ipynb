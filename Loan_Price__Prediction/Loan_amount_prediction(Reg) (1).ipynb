{
 "cells": [
  {
   "cell_type": "markdown",
   "id": "e2eb33dd",
   "metadata": {},
   "source": [
    "# Read Dataset"
   ]
  },
  {
   "cell_type": "code",
   "execution_count": 1,
   "id": "17f361bc",
   "metadata": {},
   "outputs": [],
   "source": [
    "from warnings import filterwarnings\n",
    "filterwarnings(\"ignore\")"
   ]
  },
  {
   "cell_type": "code",
   "execution_count": 2,
   "id": "f46d971f",
   "metadata": {},
   "outputs": [
    {
     "data": {
      "text/html": [
       "<div>\n",
       "<style scoped>\n",
       "    .dataframe tbody tr th:only-of-type {\n",
       "        vertical-align: middle;\n",
       "    }\n",
       "\n",
       "    .dataframe tbody tr th {\n",
       "        vertical-align: top;\n",
       "    }\n",
       "\n",
       "    .dataframe thead th {\n",
       "        text-align: right;\n",
       "    }\n",
       "</style>\n",
       "<table border=\"1\" class=\"dataframe\">\n",
       "  <thead>\n",
       "    <tr style=\"text-align: right;\">\n",
       "      <th></th>\n",
       "      <th>Loan_ID</th>\n",
       "      <th>Gender</th>\n",
       "      <th>Married</th>\n",
       "      <th>Dependents</th>\n",
       "      <th>Education</th>\n",
       "      <th>Self_Employed</th>\n",
       "      <th>ApplicantIncome</th>\n",
       "      <th>CoapplicantIncome</th>\n",
       "      <th>LoanAmount</th>\n",
       "      <th>Loan_Amount_Term</th>\n",
       "      <th>Credit_History</th>\n",
       "      <th>Property_Area</th>\n",
       "      <th>Loan_Status</th>\n",
       "    </tr>\n",
       "  </thead>\n",
       "  <tbody>\n",
       "    <tr>\n",
       "      <th>0</th>\n",
       "      <td>LP001002</td>\n",
       "      <td>Male</td>\n",
       "      <td>No</td>\n",
       "      <td>0</td>\n",
       "      <td>Graduate</td>\n",
       "      <td>No</td>\n",
       "      <td>5849.0</td>\n",
       "      <td>0.0</td>\n",
       "      <td>NaN</td>\n",
       "      <td>360.0</td>\n",
       "      <td>1.0</td>\n",
       "      <td>Urban</td>\n",
       "      <td>Y</td>\n",
       "    </tr>\n",
       "    <tr>\n",
       "      <th>1</th>\n",
       "      <td>LP001003</td>\n",
       "      <td>Male</td>\n",
       "      <td>Yes</td>\n",
       "      <td>1</td>\n",
       "      <td>Graduate</td>\n",
       "      <td>No</td>\n",
       "      <td>NaN</td>\n",
       "      <td>1508.0</td>\n",
       "      <td>128.0</td>\n",
       "      <td>360.0</td>\n",
       "      <td>1.0</td>\n",
       "      <td>Rural</td>\n",
       "      <td>N</td>\n",
       "    </tr>\n",
       "    <tr>\n",
       "      <th>2</th>\n",
       "      <td>LP001005</td>\n",
       "      <td>Male</td>\n",
       "      <td>Yes</td>\n",
       "      <td>0</td>\n",
       "      <td>Graduate</td>\n",
       "      <td>Yes</td>\n",
       "      <td>3000.0</td>\n",
       "      <td>0.0</td>\n",
       "      <td>66.0</td>\n",
       "      <td>360.0</td>\n",
       "      <td>1.0</td>\n",
       "      <td>Urban</td>\n",
       "      <td>Y</td>\n",
       "    </tr>\n",
       "    <tr>\n",
       "      <th>3</th>\n",
       "      <td>LP001006</td>\n",
       "      <td>Male</td>\n",
       "      <td>Yes</td>\n",
       "      <td>0</td>\n",
       "      <td>Not Graduate</td>\n",
       "      <td>No</td>\n",
       "      <td>2583.0</td>\n",
       "      <td>2358.0</td>\n",
       "      <td>120.0</td>\n",
       "      <td>360.0</td>\n",
       "      <td>1.0</td>\n",
       "      <td>Urban</td>\n",
       "      <td>Y</td>\n",
       "    </tr>\n",
       "    <tr>\n",
       "      <th>4</th>\n",
       "      <td>LP001008</td>\n",
       "      <td>Male</td>\n",
       "      <td>No</td>\n",
       "      <td>0</td>\n",
       "      <td>Graduate</td>\n",
       "      <td>No</td>\n",
       "      <td>6000.0</td>\n",
       "      <td>0.0</td>\n",
       "      <td>141.0</td>\n",
       "      <td>360.0</td>\n",
       "      <td>1.0</td>\n",
       "      <td>Urban</td>\n",
       "      <td>Y</td>\n",
       "    </tr>\n",
       "  </tbody>\n",
       "</table>\n",
       "</div>"
      ],
      "text/plain": [
       "    Loan_ID Gender Married Dependents     Education Self_Employed  \\\n",
       "0  LP001002   Male      No          0      Graduate            No   \n",
       "1  LP001003   Male     Yes          1      Graduate            No   \n",
       "2  LP001005   Male     Yes          0      Graduate           Yes   \n",
       "3  LP001006   Male     Yes          0  Not Graduate            No   \n",
       "4  LP001008   Male      No          0      Graduate            No   \n",
       "\n",
       "   ApplicantIncome  CoapplicantIncome  LoanAmount  Loan_Amount_Term  \\\n",
       "0           5849.0                0.0         NaN             360.0   \n",
       "1              NaN             1508.0       128.0             360.0   \n",
       "2           3000.0                0.0        66.0             360.0   \n",
       "3           2583.0             2358.0       120.0             360.0   \n",
       "4           6000.0                0.0       141.0             360.0   \n",
       "\n",
       "   Credit_History Property_Area Loan_Status  \n",
       "0             1.0         Urban           Y  \n",
       "1             1.0         Rural           N  \n",
       "2             1.0         Urban           Y  \n",
       "3             1.0         Urban           Y  \n",
       "4             1.0         Urban           Y  "
      ]
     },
     "execution_count": 2,
     "metadata": {},
     "output_type": "execute_result"
    }
   ],
   "source": [
    "import pandas as pd\n",
    "train_data = pd.read_csv(\"C:/Users/Administrator/Downloads/training_set (1).csv\")\n",
    "A = train_data\n",
    "A.head()"
   ]
  },
  {
   "cell_type": "code",
   "execution_count": 3,
   "id": "340903fc",
   "metadata": {},
   "outputs": [
    {
     "data": {
      "text/html": [
       "<div>\n",
       "<style scoped>\n",
       "    .dataframe tbody tr th:only-of-type {\n",
       "        vertical-align: middle;\n",
       "    }\n",
       "\n",
       "    .dataframe tbody tr th {\n",
       "        vertical-align: top;\n",
       "    }\n",
       "\n",
       "    .dataframe thead th {\n",
       "        text-align: right;\n",
       "    }\n",
       "</style>\n",
       "<table border=\"1\" class=\"dataframe\">\n",
       "  <thead>\n",
       "    <tr style=\"text-align: right;\">\n",
       "      <th></th>\n",
       "      <th>Loan_ID</th>\n",
       "      <th>Gender</th>\n",
       "      <th>Married</th>\n",
       "      <th>Dependents</th>\n",
       "      <th>Education</th>\n",
       "      <th>Self_Employed</th>\n",
       "      <th>ApplicantIncome</th>\n",
       "      <th>CoapplicantIncome</th>\n",
       "      <th>LoanAmount</th>\n",
       "      <th>Loan_Amount_Term</th>\n",
       "      <th>Credit_History</th>\n",
       "      <th>Property_Area</th>\n",
       "    </tr>\n",
       "  </thead>\n",
       "  <tbody>\n",
       "    <tr>\n",
       "      <th>0</th>\n",
       "      <td>LP001015</td>\n",
       "      <td>Male</td>\n",
       "      <td>Yes</td>\n",
       "      <td>0</td>\n",
       "      <td>Graduate</td>\n",
       "      <td>No</td>\n",
       "      <td>5720</td>\n",
       "      <td>0</td>\n",
       "      <td>110.0</td>\n",
       "      <td>360.0</td>\n",
       "      <td>1.0</td>\n",
       "      <td>Urban</td>\n",
       "    </tr>\n",
       "    <tr>\n",
       "      <th>1</th>\n",
       "      <td>LP001022</td>\n",
       "      <td>Male</td>\n",
       "      <td>Yes</td>\n",
       "      <td>1</td>\n",
       "      <td>Graduate</td>\n",
       "      <td>No</td>\n",
       "      <td>3076</td>\n",
       "      <td>1500</td>\n",
       "      <td>126.0</td>\n",
       "      <td>360.0</td>\n",
       "      <td>1.0</td>\n",
       "      <td>Urban</td>\n",
       "    </tr>\n",
       "    <tr>\n",
       "      <th>2</th>\n",
       "      <td>LP001031</td>\n",
       "      <td>Male</td>\n",
       "      <td>Yes</td>\n",
       "      <td>2</td>\n",
       "      <td>Graduate</td>\n",
       "      <td>No</td>\n",
       "      <td>5000</td>\n",
       "      <td>1800</td>\n",
       "      <td>208.0</td>\n",
       "      <td>360.0</td>\n",
       "      <td>1.0</td>\n",
       "      <td>Urban</td>\n",
       "    </tr>\n",
       "    <tr>\n",
       "      <th>3</th>\n",
       "      <td>LP001035</td>\n",
       "      <td>Male</td>\n",
       "      <td>Yes</td>\n",
       "      <td>2</td>\n",
       "      <td>Graduate</td>\n",
       "      <td>No</td>\n",
       "      <td>2340</td>\n",
       "      <td>2546</td>\n",
       "      <td>100.0</td>\n",
       "      <td>360.0</td>\n",
       "      <td>NaN</td>\n",
       "      <td>Urban</td>\n",
       "    </tr>\n",
       "    <tr>\n",
       "      <th>4</th>\n",
       "      <td>LP001051</td>\n",
       "      <td>Male</td>\n",
       "      <td>No</td>\n",
       "      <td>0</td>\n",
       "      <td>Not Graduate</td>\n",
       "      <td>No</td>\n",
       "      <td>3276</td>\n",
       "      <td>0</td>\n",
       "      <td>78.0</td>\n",
       "      <td>360.0</td>\n",
       "      <td>1.0</td>\n",
       "      <td>Urban</td>\n",
       "    </tr>\n",
       "  </tbody>\n",
       "</table>\n",
       "</div>"
      ],
      "text/plain": [
       "    Loan_ID Gender Married Dependents     Education Self_Employed  \\\n",
       "0  LP001015   Male     Yes          0      Graduate            No   \n",
       "1  LP001022   Male     Yes          1      Graduate            No   \n",
       "2  LP001031   Male     Yes          2      Graduate            No   \n",
       "3  LP001035   Male     Yes          2      Graduate            No   \n",
       "4  LP001051   Male      No          0  Not Graduate            No   \n",
       "\n",
       "   ApplicantIncome  CoapplicantIncome  LoanAmount  Loan_Amount_Term  \\\n",
       "0             5720                  0       110.0             360.0   \n",
       "1             3076               1500       126.0             360.0   \n",
       "2             5000               1800       208.0             360.0   \n",
       "3             2340               2546       100.0             360.0   \n",
       "4             3276                  0        78.0             360.0   \n",
       "\n",
       "   Credit_History Property_Area  \n",
       "0             1.0         Urban  \n",
       "1             1.0         Urban  \n",
       "2             1.0         Urban  \n",
       "3             NaN         Urban  \n",
       "4             1.0         Urban  "
      ]
     },
     "execution_count": 3,
     "metadata": {},
     "output_type": "execute_result"
    }
   ],
   "source": [
    "import pandas as pd\n",
    "test_data = pd.read_csv(\"C:/Users/Administrator/Downloads/testing_set (1).csv\")\n",
    "B = test_data\n",
    "B.head()"
   ]
  },
  {
   "cell_type": "code",
   "execution_count": 4,
   "id": "f4a92644",
   "metadata": {},
   "outputs": [
    {
     "name": "stdout",
     "output_type": "stream",
     "text": [
      "<class 'pandas.core.frame.DataFrame'>\n",
      "RangeIndex: 614 entries, 0 to 613\n",
      "Data columns (total 13 columns):\n",
      " #   Column             Non-Null Count  Dtype  \n",
      "---  ------             --------------  -----  \n",
      " 0   Loan_ID            614 non-null    object \n",
      " 1   Gender             599 non-null    object \n",
      " 2   Married            611 non-null    object \n",
      " 3   Dependents         599 non-null    object \n",
      " 4   Education          613 non-null    object \n",
      " 5   Self_Employed      582 non-null    object \n",
      " 6   ApplicantIncome    612 non-null    float64\n",
      " 7   CoapplicantIncome  613 non-null    float64\n",
      " 8   LoanAmount         592 non-null    float64\n",
      " 9   Loan_Amount_Term   600 non-null    float64\n",
      " 10  Credit_History     564 non-null    float64\n",
      " 11  Property_Area      614 non-null    object \n",
      " 12  Loan_Status        614 non-null    object \n",
      "dtypes: float64(5), object(8)\n",
      "memory usage: 62.5+ KB\n"
     ]
    }
   ],
   "source": [
    "A.info()"
   ]
  },
  {
   "cell_type": "code",
   "execution_count": 5,
   "id": "2565e297",
   "metadata": {},
   "outputs": [
    {
     "name": "stdout",
     "output_type": "stream",
     "text": [
      "<class 'pandas.core.frame.DataFrame'>\n",
      "RangeIndex: 367 entries, 0 to 366\n",
      "Data columns (total 12 columns):\n",
      " #   Column             Non-Null Count  Dtype  \n",
      "---  ------             --------------  -----  \n",
      " 0   Loan_ID            367 non-null    object \n",
      " 1   Gender             356 non-null    object \n",
      " 2   Married            367 non-null    object \n",
      " 3   Dependents         357 non-null    object \n",
      " 4   Education          367 non-null    object \n",
      " 5   Self_Employed      344 non-null    object \n",
      " 6   ApplicantIncome    367 non-null    int64  \n",
      " 7   CoapplicantIncome  367 non-null    int64  \n",
      " 8   LoanAmount         362 non-null    float64\n",
      " 9   Loan_Amount_Term   361 non-null    float64\n",
      " 10  Credit_History     338 non-null    float64\n",
      " 11  Property_Area      367 non-null    object \n",
      "dtypes: float64(3), int64(2), object(7)\n",
      "memory usage: 34.5+ KB\n"
     ]
    }
   ],
   "source": [
    "B.info()"
   ]
  },
  {
   "cell_type": "markdown",
   "id": "57116809",
   "metadata": {},
   "source": [
    "# Treat the Missing Data"
   ]
  },
  {
   "cell_type": "code",
   "execution_count": 6,
   "id": "5db0cc51",
   "metadata": {},
   "outputs": [
    {
     "data": {
      "text/plain": [
       "Loan_ID               0\n",
       "Gender               15\n",
       "Married               3\n",
       "Dependents           15\n",
       "Education             1\n",
       "Self_Employed        32\n",
       "ApplicantIncome       2\n",
       "CoapplicantIncome     1\n",
       "LoanAmount           22\n",
       "Loan_Amount_Term     14\n",
       "Credit_History       50\n",
       "Property_Area         0\n",
       "Loan_Status           0\n",
       "dtype: int64"
      ]
     },
     "execution_count": 6,
     "metadata": {},
     "output_type": "execute_result"
    }
   ],
   "source": [
    "A.isna().sum()"
   ]
  },
  {
   "cell_type": "code",
   "execution_count": 7,
   "id": "1a57ba3c",
   "metadata": {},
   "outputs": [
    {
     "data": {
      "text/plain": [
       "Loan_ID               0\n",
       "Gender               11\n",
       "Married               0\n",
       "Dependents           10\n",
       "Education             0\n",
       "Self_Employed        23\n",
       "ApplicantIncome       0\n",
       "CoapplicantIncome     0\n",
       "LoanAmount            5\n",
       "Loan_Amount_Term      6\n",
       "Credit_History       29\n",
       "Property_Area         0\n",
       "dtype: int64"
      ]
     },
     "execution_count": 7,
     "metadata": {},
     "output_type": "execute_result"
    }
   ],
   "source": [
    "B.isna().sum()"
   ]
  },
  {
   "cell_type": "code",
   "execution_count": 8,
   "id": "ce490823",
   "metadata": {},
   "outputs": [],
   "source": [
    "for i in A.columns:\n",
    "    if(A[i].dtypes == \"object\"):\n",
    "        x = A[i].mode()[0]\n",
    "        A[i] = A[i].fillna(x)\n",
    "    else:\n",
    "        x = A[i].mean()\n",
    "        A[i] = A[i].fillna(x)\n",
    "        \n",
    "for i in B.columns:\n",
    "    if(B[i].dtypes == \"object\"):\n",
    "        x = B[i].mode()[0]\n",
    "        B[i] = B[i].fillna(x)\n",
    "    else:\n",
    "        x = B[i].mean()\n",
    "        B[i] = B[i].fillna(x)    "
   ]
  },
  {
   "cell_type": "code",
   "execution_count": 9,
   "id": "fd67a128",
   "metadata": {},
   "outputs": [],
   "source": [
    "A['Loan_ID'].fillna(A['Loan_ID'].mode()[0],inplace=True)\n",
    "A['Gender'].fillna(A['Gender'].mode()[0],inplace=True)\n",
    "A['Married'].fillna(A['Married'].mode()[0],inplace=True)\n",
    "A['Dependents'].fillna(A['Dependents'].mode()[0],inplace=True)\n",
    "A['Education'].fillna(A['Education'].mode()[0],inplace=True)\n",
    "A['Self_Employed'].fillna(A['Self_Employed'].mode()[0],inplace=True)\n",
    "A['Property_Area'].fillna(A['Property_Area'].mode()[0],inplace=True)\n",
    "A['Loan_Status'].fillna(A['Loan_Status'].mode()[0],inplace=True)\n",
    "\n",
    "B['Loan_ID'].fillna(A['Loan_ID'].mode()[0],inplace=True)\n",
    "B['Gender'].fillna(A['Gender'].mode()[0],inplace=True)\n",
    "B['Married'].fillna(A['Married'].mode()[0],inplace=True)\n",
    "B['Dependents'].fillna(A['Dependents'].mode()[0],inplace=True)\n",
    "A['Education'].fillna(A['Education'].mode()[0],inplace=True)\n",
    "B['Self_Employed'].fillna(A['Self_Employed'].mode()[0],inplace=True)\n",
    "B['Property_Area'].fillna(A['Property_Area'].mode()[0],inplace=True)\n"
   ]
  },
  {
   "cell_type": "code",
   "execution_count": 10,
   "id": "b1ba3613",
   "metadata": {},
   "outputs": [
    {
     "data": {
      "text/plain": [
       "Loan_ID              0\n",
       "Gender               0\n",
       "Married              0\n",
       "Dependents           0\n",
       "Education            0\n",
       "Self_Employed        0\n",
       "ApplicantIncome      0\n",
       "CoapplicantIncome    0\n",
       "LoanAmount           0\n",
       "Loan_Amount_Term     0\n",
       "Credit_History       0\n",
       "Property_Area        0\n",
       "Loan_Status          0\n",
       "dtype: int64"
      ]
     },
     "execution_count": 10,
     "metadata": {},
     "output_type": "execute_result"
    }
   ],
   "source": [
    "A.isna().sum()"
   ]
  },
  {
   "cell_type": "code",
   "execution_count": 11,
   "id": "a60b3a31",
   "metadata": {},
   "outputs": [
    {
     "data": {
      "text/plain": [
       "Loan_ID              0\n",
       "Gender               0\n",
       "Married              0\n",
       "Dependents           0\n",
       "Education            0\n",
       "Self_Employed        0\n",
       "ApplicantIncome      0\n",
       "CoapplicantIncome    0\n",
       "LoanAmount           0\n",
       "Loan_Amount_Term     0\n",
       "Credit_History       0\n",
       "Property_Area        0\n",
       "dtype: int64"
      ]
     },
     "execution_count": 11,
     "metadata": {},
     "output_type": "execute_result"
    }
   ],
   "source": [
    "B.isna().sum()"
   ]
  },
  {
   "cell_type": "markdown",
   "id": "1ae1b41f",
   "metadata": {},
   "source": [
    "# Independent variable X and Dependent variable Y variable"
   ]
  },
  {
   "cell_type": "code",
   "execution_count": 12,
   "id": "a09cf746",
   "metadata": {},
   "outputs": [],
   "source": [
    "X = A.drop(labels=[\"Loan_ID\",\"Loan_Status\",\"LoanAmount\"],axis=1)\n",
    "Y = A[[\"LoanAmount\"]]"
   ]
  },
  {
   "cell_type": "code",
   "execution_count": 13,
   "id": "ac29892b",
   "metadata": {},
   "outputs": [
    {
     "data": {
      "text/html": [
       "<div>\n",
       "<style scoped>\n",
       "    .dataframe tbody tr th:only-of-type {\n",
       "        vertical-align: middle;\n",
       "    }\n",
       "\n",
       "    .dataframe tbody tr th {\n",
       "        vertical-align: top;\n",
       "    }\n",
       "\n",
       "    .dataframe thead th {\n",
       "        text-align: right;\n",
       "    }\n",
       "</style>\n",
       "<table border=\"1\" class=\"dataframe\">\n",
       "  <thead>\n",
       "    <tr style=\"text-align: right;\">\n",
       "      <th></th>\n",
       "      <th>Gender</th>\n",
       "      <th>Married</th>\n",
       "      <th>Dependents</th>\n",
       "      <th>Education</th>\n",
       "      <th>Self_Employed</th>\n",
       "      <th>ApplicantIncome</th>\n",
       "      <th>CoapplicantIncome</th>\n",
       "      <th>Loan_Amount_Term</th>\n",
       "      <th>Credit_History</th>\n",
       "      <th>Property_Area</th>\n",
       "    </tr>\n",
       "  </thead>\n",
       "  <tbody>\n",
       "    <tr>\n",
       "      <th>0</th>\n",
       "      <td>Male</td>\n",
       "      <td>No</td>\n",
       "      <td>0</td>\n",
       "      <td>Graduate</td>\n",
       "      <td>No</td>\n",
       "      <td>5849.00000</td>\n",
       "      <td>0.0</td>\n",
       "      <td>360.0</td>\n",
       "      <td>1.0</td>\n",
       "      <td>Urban</td>\n",
       "    </tr>\n",
       "    <tr>\n",
       "      <th>1</th>\n",
       "      <td>Male</td>\n",
       "      <td>Yes</td>\n",
       "      <td>1</td>\n",
       "      <td>Graduate</td>\n",
       "      <td>No</td>\n",
       "      <td>5405.54085</td>\n",
       "      <td>1508.0</td>\n",
       "      <td>360.0</td>\n",
       "      <td>1.0</td>\n",
       "      <td>Rural</td>\n",
       "    </tr>\n",
       "    <tr>\n",
       "      <th>2</th>\n",
       "      <td>Male</td>\n",
       "      <td>Yes</td>\n",
       "      <td>0</td>\n",
       "      <td>Graduate</td>\n",
       "      <td>Yes</td>\n",
       "      <td>3000.00000</td>\n",
       "      <td>0.0</td>\n",
       "      <td>360.0</td>\n",
       "      <td>1.0</td>\n",
       "      <td>Urban</td>\n",
       "    </tr>\n",
       "    <tr>\n",
       "      <th>3</th>\n",
       "      <td>Male</td>\n",
       "      <td>Yes</td>\n",
       "      <td>0</td>\n",
       "      <td>Not Graduate</td>\n",
       "      <td>No</td>\n",
       "      <td>2583.00000</td>\n",
       "      <td>2358.0</td>\n",
       "      <td>360.0</td>\n",
       "      <td>1.0</td>\n",
       "      <td>Urban</td>\n",
       "    </tr>\n",
       "    <tr>\n",
       "      <th>4</th>\n",
       "      <td>Male</td>\n",
       "      <td>No</td>\n",
       "      <td>0</td>\n",
       "      <td>Graduate</td>\n",
       "      <td>No</td>\n",
       "      <td>6000.00000</td>\n",
       "      <td>0.0</td>\n",
       "      <td>360.0</td>\n",
       "      <td>1.0</td>\n",
       "      <td>Urban</td>\n",
       "    </tr>\n",
       "  </tbody>\n",
       "</table>\n",
       "</div>"
      ],
      "text/plain": [
       "  Gender Married Dependents     Education Self_Employed  ApplicantIncome  \\\n",
       "0   Male      No          0      Graduate            No       5849.00000   \n",
       "1   Male     Yes          1      Graduate            No       5405.54085   \n",
       "2   Male     Yes          0      Graduate           Yes       3000.00000   \n",
       "3   Male     Yes          0  Not Graduate            No       2583.00000   \n",
       "4   Male      No          0      Graduate            No       6000.00000   \n",
       "\n",
       "   CoapplicantIncome  Loan_Amount_Term  Credit_History Property_Area  \n",
       "0                0.0             360.0             1.0         Urban  \n",
       "1             1508.0             360.0             1.0         Rural  \n",
       "2                0.0             360.0             1.0         Urban  \n",
       "3             2358.0             360.0             1.0         Urban  \n",
       "4                0.0             360.0             1.0         Urban  "
      ]
     },
     "execution_count": 13,
     "metadata": {},
     "output_type": "execute_result"
    }
   ],
   "source": [
    "X.head()"
   ]
  },
  {
   "cell_type": "code",
   "execution_count": 14,
   "id": "643228b6",
   "metadata": {},
   "outputs": [
    {
     "data": {
      "text/html": [
       "<div>\n",
       "<style scoped>\n",
       "    .dataframe tbody tr th:only-of-type {\n",
       "        vertical-align: middle;\n",
       "    }\n",
       "\n",
       "    .dataframe tbody tr th {\n",
       "        vertical-align: top;\n",
       "    }\n",
       "\n",
       "    .dataframe thead th {\n",
       "        text-align: right;\n",
       "    }\n",
       "</style>\n",
       "<table border=\"1\" class=\"dataframe\">\n",
       "  <thead>\n",
       "    <tr style=\"text-align: right;\">\n",
       "      <th></th>\n",
       "      <th>LoanAmount</th>\n",
       "    </tr>\n",
       "  </thead>\n",
       "  <tbody>\n",
       "    <tr>\n",
       "      <th>0</th>\n",
       "      <td>146.412162</td>\n",
       "    </tr>\n",
       "    <tr>\n",
       "      <th>1</th>\n",
       "      <td>128.000000</td>\n",
       "    </tr>\n",
       "    <tr>\n",
       "      <th>2</th>\n",
       "      <td>66.000000</td>\n",
       "    </tr>\n",
       "    <tr>\n",
       "      <th>3</th>\n",
       "      <td>120.000000</td>\n",
       "    </tr>\n",
       "    <tr>\n",
       "      <th>4</th>\n",
       "      <td>141.000000</td>\n",
       "    </tr>\n",
       "  </tbody>\n",
       "</table>\n",
       "</div>"
      ],
      "text/plain": [
       "   LoanAmount\n",
       "0  146.412162\n",
       "1  128.000000\n",
       "2   66.000000\n",
       "3  120.000000\n",
       "4  141.000000"
      ]
     },
     "execution_count": 14,
     "metadata": {},
     "output_type": "execute_result"
    }
   ],
   "source": [
    "Y.head()"
   ]
  },
  {
   "cell_type": "markdown",
   "id": "c8be2b08",
   "metadata": {},
   "source": [
    "# Separate cat con column"
   ]
  },
  {
   "cell_type": "code",
   "execution_count": 15,
   "id": "7816ad4d",
   "metadata": {},
   "outputs": [],
   "source": [
    "cat = []\n",
    "con = []\n",
    "for i in X.columns:\n",
    "    if(X[i].dtypes == \"object\"):\n",
    "        cat.append(i)\n",
    "    else:\n",
    "        con.append(i)"
   ]
  },
  {
   "cell_type": "code",
   "execution_count": 16,
   "id": "b71501cc",
   "metadata": {},
   "outputs": [
    {
     "data": {
      "text/plain": [
       "['Gender',\n",
       " 'Married',\n",
       " 'Dependents',\n",
       " 'Education',\n",
       " 'Self_Employed',\n",
       " 'Property_Area']"
      ]
     },
     "execution_count": 16,
     "metadata": {},
     "output_type": "execute_result"
    }
   ],
   "source": [
    "cat"
   ]
  },
  {
   "cell_type": "code",
   "execution_count": 17,
   "id": "c69141fd",
   "metadata": {},
   "outputs": [
    {
     "data": {
      "text/plain": [
       "['ApplicantIncome', 'CoapplicantIncome', 'Loan_Amount_Term', 'Credit_History']"
      ]
     },
     "execution_count": 17,
     "metadata": {},
     "output_type": "execute_result"
    }
   ],
   "source": [
    "con"
   ]
  },
  {
   "cell_type": "markdown",
   "id": "42b7e78a",
   "metadata": {},
   "source": [
    "# Preprocessing cat and con column in X variable"
   ]
  },
  {
   "cell_type": "code",
   "execution_count": 18,
   "id": "8c795060",
   "metadata": {},
   "outputs": [],
   "source": [
    "def preprocessing(df):\n",
    "    import pandas as pd\n",
    "    cat = []\n",
    "    con = []\n",
    "    for i in df.columns:\n",
    "        if(df[i].dtypes == \"object\"):\n",
    "            cat.append(i)\n",
    "        else:\n",
    "            con.append(i)\n",
    "    X1 = pd.get_dummies(df[cat])\n",
    "    from sklearn.preprocessing import StandardScaler\n",
    "    ss = StandardScaler()\n",
    "    X2 = pd.DataFrame(ss.fit_transform(df[con]),columns=con)\n",
    "    X3 = X2.join(X1)\n",
    "    return X3"
   ]
  },
  {
   "cell_type": "code",
   "execution_count": 19,
   "id": "5d9726d1",
   "metadata": {},
   "outputs": [],
   "source": [
    "Xnew = preprocessing(X)"
   ]
  },
  {
   "cell_type": "code",
   "execution_count": 20,
   "id": "0f1cfb10",
   "metadata": {},
   "outputs": [
    {
     "data": {
      "text/html": [
       "<div>\n",
       "<style scoped>\n",
       "    .dataframe tbody tr th:only-of-type {\n",
       "        vertical-align: middle;\n",
       "    }\n",
       "\n",
       "    .dataframe tbody tr th {\n",
       "        vertical-align: top;\n",
       "    }\n",
       "\n",
       "    .dataframe thead th {\n",
       "        text-align: right;\n",
       "    }\n",
       "</style>\n",
       "<table border=\"1\" class=\"dataframe\">\n",
       "  <thead>\n",
       "    <tr style=\"text-align: right;\">\n",
       "      <th></th>\n",
       "      <th>ApplicantIncome</th>\n",
       "      <th>CoapplicantIncome</th>\n",
       "      <th>Loan_Amount_Term</th>\n",
       "      <th>Credit_History</th>\n",
       "      <th>Gender_Female</th>\n",
       "      <th>Gender_Male</th>\n",
       "      <th>Married_No</th>\n",
       "      <th>Married_Yes</th>\n",
       "      <th>Dependents_0</th>\n",
       "      <th>Dependents_1</th>\n",
       "      <th>Dependents_2</th>\n",
       "      <th>Dependents_3+</th>\n",
       "      <th>Education_Graduate</th>\n",
       "      <th>Education_Not Graduate</th>\n",
       "      <th>Self_Employed_No</th>\n",
       "      <th>Self_Employed_Yes</th>\n",
       "      <th>Property_Area_Rural</th>\n",
       "      <th>Property_Area_Semiurban</th>\n",
       "      <th>Property_Area_Urban</th>\n",
       "    </tr>\n",
       "  </thead>\n",
       "  <tbody>\n",
       "    <tr>\n",
       "      <th>0</th>\n",
       "      <td>0.072651</td>\n",
       "      <td>-0.554368</td>\n",
       "      <td>0.279851</td>\n",
       "      <td>0.45164</td>\n",
       "      <td>0</td>\n",
       "      <td>1</td>\n",
       "      <td>1</td>\n",
       "      <td>0</td>\n",
       "      <td>1</td>\n",
       "      <td>0</td>\n",
       "      <td>0</td>\n",
       "      <td>0</td>\n",
       "      <td>1</td>\n",
       "      <td>0</td>\n",
       "      <td>1</td>\n",
       "      <td>0</td>\n",
       "      <td>0</td>\n",
       "      <td>0</td>\n",
       "      <td>1</td>\n",
       "    </tr>\n",
       "    <tr>\n",
       "      <th>1</th>\n",
       "      <td>0.000000</td>\n",
       "      <td>-0.038610</td>\n",
       "      <td>0.279851</td>\n",
       "      <td>0.45164</td>\n",
       "      <td>0</td>\n",
       "      <td>1</td>\n",
       "      <td>0</td>\n",
       "      <td>1</td>\n",
       "      <td>0</td>\n",
       "      <td>1</td>\n",
       "      <td>0</td>\n",
       "      <td>0</td>\n",
       "      <td>1</td>\n",
       "      <td>0</td>\n",
       "      <td>1</td>\n",
       "      <td>0</td>\n",
       "      <td>1</td>\n",
       "      <td>0</td>\n",
       "      <td>0</td>\n",
       "    </tr>\n",
       "    <tr>\n",
       "      <th>2</th>\n",
       "      <td>-0.394096</td>\n",
       "      <td>-0.554368</td>\n",
       "      <td>0.279851</td>\n",
       "      <td>0.45164</td>\n",
       "      <td>0</td>\n",
       "      <td>1</td>\n",
       "      <td>0</td>\n",
       "      <td>1</td>\n",
       "      <td>1</td>\n",
       "      <td>0</td>\n",
       "      <td>0</td>\n",
       "      <td>0</td>\n",
       "      <td>1</td>\n",
       "      <td>0</td>\n",
       "      <td>0</td>\n",
       "      <td>1</td>\n",
       "      <td>0</td>\n",
       "      <td>0</td>\n",
       "      <td>1</td>\n",
       "    </tr>\n",
       "    <tr>\n",
       "      <th>3</th>\n",
       "      <td>-0.462412</td>\n",
       "      <td>0.252103</td>\n",
       "      <td>0.279851</td>\n",
       "      <td>0.45164</td>\n",
       "      <td>0</td>\n",
       "      <td>1</td>\n",
       "      <td>0</td>\n",
       "      <td>1</td>\n",
       "      <td>1</td>\n",
       "      <td>0</td>\n",
       "      <td>0</td>\n",
       "      <td>0</td>\n",
       "      <td>0</td>\n",
       "      <td>1</td>\n",
       "      <td>1</td>\n",
       "      <td>0</td>\n",
       "      <td>0</td>\n",
       "      <td>0</td>\n",
       "      <td>1</td>\n",
       "    </tr>\n",
       "    <tr>\n",
       "      <th>4</th>\n",
       "      <td>0.097389</td>\n",
       "      <td>-0.554368</td>\n",
       "      <td>0.279851</td>\n",
       "      <td>0.45164</td>\n",
       "      <td>0</td>\n",
       "      <td>1</td>\n",
       "      <td>1</td>\n",
       "      <td>0</td>\n",
       "      <td>1</td>\n",
       "      <td>0</td>\n",
       "      <td>0</td>\n",
       "      <td>0</td>\n",
       "      <td>1</td>\n",
       "      <td>0</td>\n",
       "      <td>1</td>\n",
       "      <td>0</td>\n",
       "      <td>0</td>\n",
       "      <td>0</td>\n",
       "      <td>1</td>\n",
       "    </tr>\n",
       "  </tbody>\n",
       "</table>\n",
       "</div>"
      ],
      "text/plain": [
       "   ApplicantIncome  CoapplicantIncome  Loan_Amount_Term  Credit_History  \\\n",
       "0         0.072651          -0.554368          0.279851         0.45164   \n",
       "1         0.000000          -0.038610          0.279851         0.45164   \n",
       "2        -0.394096          -0.554368          0.279851         0.45164   \n",
       "3        -0.462412           0.252103          0.279851         0.45164   \n",
       "4         0.097389          -0.554368          0.279851         0.45164   \n",
       "\n",
       "   Gender_Female  Gender_Male  Married_No  Married_Yes  Dependents_0  \\\n",
       "0              0            1           1            0             1   \n",
       "1              0            1           0            1             0   \n",
       "2              0            1           0            1             1   \n",
       "3              0            1           0            1             1   \n",
       "4              0            1           1            0             1   \n",
       "\n",
       "   Dependents_1  Dependents_2  Dependents_3+  Education_Graduate  \\\n",
       "0             0             0              0                   1   \n",
       "1             1             0              0                   1   \n",
       "2             0             0              0                   1   \n",
       "3             0             0              0                   0   \n",
       "4             0             0              0                   1   \n",
       "\n",
       "   Education_Not Graduate  Self_Employed_No  Self_Employed_Yes  \\\n",
       "0                       0                 1                  0   \n",
       "1                       0                 1                  0   \n",
       "2                       0                 0                  1   \n",
       "3                       1                 1                  0   \n",
       "4                       0                 1                  0   \n",
       "\n",
       "   Property_Area_Rural  Property_Area_Semiurban  Property_Area_Urban  \n",
       "0                    0                        0                    1  \n",
       "1                    1                        0                    0  \n",
       "2                    0                        0                    1  \n",
       "3                    0                        0                    1  \n",
       "4                    0                        0                    1  "
      ]
     },
     "execution_count": 20,
     "metadata": {},
     "output_type": "execute_result"
    }
   ],
   "source": [
    "Xnew.head()"
   ]
  },
  {
   "cell_type": "markdown",
   "id": "e4629efb",
   "metadata": {},
   "source": [
    "# Train Test Split"
   ]
  },
  {
   "cell_type": "code",
   "execution_count": 21,
   "id": "052e8f6a",
   "metadata": {},
   "outputs": [],
   "source": [
    "from sklearn.model_selection import train_test_split\n",
    "xtrain,xtest,ytrain,ytest = train_test_split(Xnew,Y,test_size=0.2,random_state=21)"
   ]
  },
  {
   "cell_type": "code",
   "execution_count": 22,
   "id": "dac1dbc7",
   "metadata": {},
   "outputs": [
    {
     "data": {
      "text/plain": [
       "(491, 19)"
      ]
     },
     "execution_count": 22,
     "metadata": {},
     "output_type": "execute_result"
    }
   ],
   "source": [
    "xtrain.shape"
   ]
  },
  {
   "cell_type": "code",
   "execution_count": 23,
   "id": "02ad915b",
   "metadata": {},
   "outputs": [
    {
     "data": {
      "text/plain": [
       "(123, 19)"
      ]
     },
     "execution_count": 23,
     "metadata": {},
     "output_type": "execute_result"
    }
   ],
   "source": [
    "xtest.shape"
   ]
  },
  {
   "cell_type": "markdown",
   "id": "a196c9e3",
   "metadata": {},
   "source": [
    "# Start Decision Tree model\n"
   ]
  },
  {
   "cell_type": "code",
   "execution_count": 24,
   "id": "bbe05c31",
   "metadata": {},
   "outputs": [
    {
     "data": {
      "text/html": [
       "<style>#sk-container-id-1 {color: black;}#sk-container-id-1 pre{padding: 0;}#sk-container-id-1 div.sk-toggleable {background-color: white;}#sk-container-id-1 label.sk-toggleable__label {cursor: pointer;display: block;width: 100%;margin-bottom: 0;padding: 0.3em;box-sizing: border-box;text-align: center;}#sk-container-id-1 label.sk-toggleable__label-arrow:before {content: \"▸\";float: left;margin-right: 0.25em;color: #696969;}#sk-container-id-1 label.sk-toggleable__label-arrow:hover:before {color: black;}#sk-container-id-1 div.sk-estimator:hover label.sk-toggleable__label-arrow:before {color: black;}#sk-container-id-1 div.sk-toggleable__content {max-height: 0;max-width: 0;overflow: hidden;text-align: left;background-color: #f0f8ff;}#sk-container-id-1 div.sk-toggleable__content pre {margin: 0.2em;color: black;border-radius: 0.25em;background-color: #f0f8ff;}#sk-container-id-1 input.sk-toggleable__control:checked~div.sk-toggleable__content {max-height: 200px;max-width: 100%;overflow: auto;}#sk-container-id-1 input.sk-toggleable__control:checked~label.sk-toggleable__label-arrow:before {content: \"▾\";}#sk-container-id-1 div.sk-estimator input.sk-toggleable__control:checked~label.sk-toggleable__label {background-color: #d4ebff;}#sk-container-id-1 div.sk-label input.sk-toggleable__control:checked~label.sk-toggleable__label {background-color: #d4ebff;}#sk-container-id-1 input.sk-hidden--visually {border: 0;clip: rect(1px 1px 1px 1px);clip: rect(1px, 1px, 1px, 1px);height: 1px;margin: -1px;overflow: hidden;padding: 0;position: absolute;width: 1px;}#sk-container-id-1 div.sk-estimator {font-family: monospace;background-color: #f0f8ff;border: 1px dotted black;border-radius: 0.25em;box-sizing: border-box;margin-bottom: 0.5em;}#sk-container-id-1 div.sk-estimator:hover {background-color: #d4ebff;}#sk-container-id-1 div.sk-parallel-item::after {content: \"\";width: 100%;border-bottom: 1px solid gray;flex-grow: 1;}#sk-container-id-1 div.sk-label:hover label.sk-toggleable__label {background-color: #d4ebff;}#sk-container-id-1 div.sk-serial::before {content: \"\";position: absolute;border-left: 1px solid gray;box-sizing: border-box;top: 0;bottom: 0;left: 50%;z-index: 0;}#sk-container-id-1 div.sk-serial {display: flex;flex-direction: column;align-items: center;background-color: white;padding-right: 0.2em;padding-left: 0.2em;position: relative;}#sk-container-id-1 div.sk-item {position: relative;z-index: 1;}#sk-container-id-1 div.sk-parallel {display: flex;align-items: stretch;justify-content: center;background-color: white;position: relative;}#sk-container-id-1 div.sk-item::before, #sk-container-id-1 div.sk-parallel-item::before {content: \"\";position: absolute;border-left: 1px solid gray;box-sizing: border-box;top: 0;bottom: 0;left: 50%;z-index: -1;}#sk-container-id-1 div.sk-parallel-item {display: flex;flex-direction: column;z-index: 1;position: relative;background-color: white;}#sk-container-id-1 div.sk-parallel-item:first-child::after {align-self: flex-end;width: 50%;}#sk-container-id-1 div.sk-parallel-item:last-child::after {align-self: flex-start;width: 50%;}#sk-container-id-1 div.sk-parallel-item:only-child::after {width: 0;}#sk-container-id-1 div.sk-dashed-wrapped {border: 1px dashed gray;margin: 0 0.4em 0.5em 0.4em;box-sizing: border-box;padding-bottom: 0.4em;background-color: white;}#sk-container-id-1 div.sk-label label {font-family: monospace;font-weight: bold;display: inline-block;line-height: 1.2em;}#sk-container-id-1 div.sk-label-container {text-align: center;}#sk-container-id-1 div.sk-container {/* jupyter's `normalize.less` sets `[hidden] { display: none; }` but bootstrap.min.css set `[hidden] { display: none !important; }` so we also need the `!important` here to be able to override the default hidden behavior on the sphinx rendered scikit-learn.org. See: https://github.com/scikit-learn/scikit-learn/issues/21755 */display: inline-block !important;position: relative;}#sk-container-id-1 div.sk-text-repr-fallback {display: none;}</style><div id=\"sk-container-id-1\" class=\"sk-top-container\"><div class=\"sk-text-repr-fallback\"><pre>DecisionTreeRegressor(max_depth=2, random_state=21)</pre><b>In a Jupyter environment, please rerun this cell to show the HTML representation or trust the notebook. <br />On GitHub, the HTML representation is unable to render, please try loading this page with nbviewer.org.</b></div><div class=\"sk-container\" hidden><div class=\"sk-item\"><div class=\"sk-estimator sk-toggleable\"><input class=\"sk-toggleable__control sk-hidden--visually\" id=\"sk-estimator-id-1\" type=\"checkbox\" checked><label for=\"sk-estimator-id-1\" class=\"sk-toggleable__label sk-toggleable__label-arrow\">DecisionTreeRegressor</label><div class=\"sk-toggleable__content\"><pre>DecisionTreeRegressor(max_depth=2, random_state=21)</pre></div></div></div></div></div>"
      ],
      "text/plain": [
       "DecisionTreeRegressor(max_depth=2, random_state=21)"
      ]
     },
     "execution_count": 24,
     "metadata": {},
     "output_type": "execute_result"
    }
   ],
   "source": [
    "from sklearn.tree import DecisionTreeRegressor\n",
    "dtr = DecisionTreeRegressor(max_depth=2,random_state=21)\n",
    "dtr.fit(xtrain,ytrain)"
   ]
  },
  {
   "cell_type": "markdown",
   "id": "51f59309",
   "metadata": {},
   "source": [
    "# predict model for training and testing"
   ]
  },
  {
   "cell_type": "code",
   "execution_count": 25,
   "id": "3e7647bb",
   "metadata": {},
   "outputs": [],
   "source": [
    "tr_pred = dtr.predict(xtrain)\n",
    "ts_pred = dtr.predict(xtest)"
   ]
  },
  {
   "cell_type": "code",
   "execution_count": 26,
   "id": "a041941e",
   "metadata": {
    "scrolled": false
   },
   "outputs": [
    {
     "data": {
      "text/plain": [
       "array([108.60824008, 108.60824008, 197.14496863, 197.14496863,\n",
       "       108.60824008, 197.14496863, 108.60824008, 392.58292383,\n",
       "       108.60824008, 108.60824008, 197.14496863, 146.85925434,\n",
       "       108.60824008, 146.85925434, 146.85925434, 146.85925434,\n",
       "       146.85925434, 197.14496863, 108.60824008, 108.60824008,\n",
       "       108.60824008, 392.58292383, 108.60824008, 108.60824008,\n",
       "       108.60824008, 146.85925434, 108.60824008, 197.14496863,\n",
       "       146.85925434, 146.85925434, 146.85925434, 146.85925434,\n",
       "       197.14496863, 108.60824008, 197.14496863, 108.60824008,\n",
       "       108.60824008, 108.60824008, 108.60824008, 197.14496863,\n",
       "       146.85925434, 108.60824008, 197.14496863, 108.60824008,\n",
       "       108.60824008, 146.85925434, 197.14496863, 108.60824008,\n",
       "       108.60824008, 146.85925434, 197.14496863, 108.60824008,\n",
       "       197.14496863, 146.85925434, 108.60824008, 392.58292383,\n",
       "       108.60824008, 108.60824008, 197.14496863, 146.85925434,\n",
       "       108.60824008, 197.14496863, 197.14496863, 146.85925434,\n",
       "       108.60824008, 197.14496863, 108.60824008, 108.60824008,\n",
       "       197.14496863, 108.60824008, 108.60824008, 392.58292383,\n",
       "       108.60824008, 108.60824008, 108.60824008, 146.85925434,\n",
       "       197.14496863, 197.14496863, 197.14496863, 146.85925434,\n",
       "       146.85925434, 108.60824008, 146.85925434, 108.60824008,\n",
       "       108.60824008, 108.60824008, 108.60824008, 108.60824008,\n",
       "       146.85925434, 108.60824008, 108.60824008, 146.85925434,\n",
       "       146.85925434, 146.85925434, 108.60824008, 108.60824008,\n",
       "       108.60824008, 108.60824008, 146.85925434, 108.60824008,\n",
       "       197.14496863, 108.60824008, 146.85925434, 108.60824008,\n",
       "       108.60824008, 108.60824008, 197.14496863, 197.14496863,\n",
       "       108.60824008, 197.14496863, 108.60824008, 146.85925434,\n",
       "       108.60824008, 108.60824008, 108.60824008, 108.60824008,\n",
       "       108.60824008, 197.14496863, 108.60824008, 108.60824008,\n",
       "       197.14496863, 392.58292383, 108.60824008, 108.60824008,\n",
       "       108.60824008, 108.60824008, 146.85925434, 197.14496863,\n",
       "       108.60824008, 146.85925434, 108.60824008, 146.85925434,\n",
       "       108.60824008, 197.14496863, 197.14496863, 108.60824008,\n",
       "       146.85925434, 197.14496863, 146.85925434, 108.60824008,\n",
       "       146.85925434, 197.14496863, 108.60824008, 108.60824008,\n",
       "       108.60824008, 108.60824008, 108.60824008, 146.85925434,\n",
       "       197.14496863, 197.14496863, 108.60824008, 197.14496863,\n",
       "       197.14496863, 108.60824008, 108.60824008, 108.60824008,\n",
       "       108.60824008, 108.60824008, 108.60824008, 108.60824008,\n",
       "       197.14496863, 197.14496863, 146.85925434, 108.60824008,\n",
       "       146.85925434, 108.60824008, 146.85925434, 108.60824008,\n",
       "       108.60824008, 108.60824008, 108.60824008, 108.60824008,\n",
       "       197.14496863, 197.14496863, 197.14496863, 146.85925434,\n",
       "       146.85925434, 108.60824008, 108.60824008, 108.60824008,\n",
       "       197.14496863, 197.14496863, 197.14496863, 108.60824008,\n",
       "       108.60824008, 108.60824008, 146.85925434, 146.85925434,\n",
       "       146.85925434, 197.14496863, 108.60824008, 108.60824008,\n",
       "       108.60824008, 108.60824008, 108.60824008, 108.60824008,\n",
       "       108.60824008, 108.60824008, 108.60824008, 146.85925434,\n",
       "       146.85925434, 146.85925434, 146.85925434, 197.14496863,\n",
       "       146.85925434, 108.60824008, 108.60824008, 146.85925434,\n",
       "       108.60824008, 197.14496863, 108.60824008, 392.58292383,\n",
       "       146.85925434, 108.60824008, 146.85925434, 108.60824008,\n",
       "       108.60824008, 108.60824008, 108.60824008, 108.60824008,\n",
       "       108.60824008, 108.60824008, 146.85925434, 146.85925434,\n",
       "       197.14496863, 108.60824008, 108.60824008, 197.14496863,\n",
       "       146.85925434, 146.85925434, 197.14496863, 392.58292383,\n",
       "       108.60824008, 108.60824008, 108.60824008, 108.60824008,\n",
       "       146.85925434, 108.60824008, 197.14496863, 146.85925434,\n",
       "       197.14496863, 197.14496863, 108.60824008, 197.14496863,\n",
       "       146.85925434, 108.60824008, 197.14496863, 108.60824008,\n",
       "       197.14496863, 197.14496863, 108.60824008, 146.85925434,\n",
       "       197.14496863, 108.60824008, 108.60824008, 108.60824008,\n",
       "       146.85925434, 108.60824008, 108.60824008, 146.85925434,\n",
       "       108.60824008, 108.60824008, 197.14496863, 146.85925434,\n",
       "       146.85925434, 108.60824008, 108.60824008, 108.60824008,\n",
       "       108.60824008, 108.60824008, 108.60824008, 108.60824008,\n",
       "       197.14496863, 146.85925434, 108.60824008, 197.14496863,\n",
       "       146.85925434, 108.60824008, 146.85925434, 108.60824008,\n",
       "       108.60824008, 197.14496863, 197.14496863, 197.14496863,\n",
       "       108.60824008, 146.85925434, 197.14496863, 108.60824008,\n",
       "       146.85925434, 146.85925434, 146.85925434, 108.60824008,\n",
       "       108.60824008, 197.14496863, 108.60824008, 197.14496863,\n",
       "       197.14496863, 392.58292383, 108.60824008, 108.60824008,\n",
       "       108.60824008, 108.60824008, 146.85925434, 108.60824008,\n",
       "       108.60824008, 108.60824008, 108.60824008, 108.60824008,\n",
       "       108.60824008, 197.14496863, 392.58292383, 146.85925434,\n",
       "       108.60824008, 108.60824008, 108.60824008, 146.85925434,\n",
       "       108.60824008, 108.60824008, 108.60824008, 146.85925434,\n",
       "       197.14496863, 197.14496863, 146.85925434, 108.60824008,\n",
       "       146.85925434, 108.60824008, 108.60824008, 146.85925434,\n",
       "       108.60824008, 108.60824008, 108.60824008, 146.85925434,\n",
       "       108.60824008, 108.60824008, 108.60824008, 108.60824008,\n",
       "       108.60824008, 108.60824008, 146.85925434, 108.60824008,\n",
       "       146.85925434, 108.60824008, 146.85925434, 197.14496863,\n",
       "       108.60824008, 108.60824008, 197.14496863, 108.60824008,\n",
       "       108.60824008, 197.14496863, 197.14496863, 146.85925434,\n",
       "       146.85925434, 146.85925434, 197.14496863, 108.60824008,\n",
       "       108.60824008, 197.14496863, 146.85925434, 108.60824008,\n",
       "       197.14496863, 108.60824008, 146.85925434, 197.14496863,\n",
       "       108.60824008, 197.14496863, 146.85925434, 197.14496863,\n",
       "       108.60824008, 108.60824008, 197.14496863, 108.60824008,\n",
       "       146.85925434, 108.60824008, 108.60824008, 197.14496863,\n",
       "       108.60824008, 197.14496863, 197.14496863, 146.85925434,\n",
       "       197.14496863, 108.60824008, 108.60824008, 108.60824008,\n",
       "       108.60824008, 197.14496863, 108.60824008, 197.14496863,\n",
       "       108.60824008, 108.60824008, 146.85925434, 108.60824008,\n",
       "       197.14496863, 197.14496863, 146.85925434, 146.85925434,\n",
       "       146.85925434, 197.14496863, 146.85925434, 108.60824008,\n",
       "       108.60824008, 108.60824008, 197.14496863, 392.58292383,\n",
       "       197.14496863, 108.60824008, 108.60824008, 146.85925434,\n",
       "       146.85925434, 108.60824008, 108.60824008, 197.14496863,\n",
       "       197.14496863, 146.85925434, 146.85925434, 108.60824008,\n",
       "       108.60824008, 197.14496863, 197.14496863, 108.60824008,\n",
       "       108.60824008, 146.85925434, 197.14496863, 108.60824008,\n",
       "       146.85925434, 108.60824008, 108.60824008, 146.85925434,\n",
       "       146.85925434, 108.60824008, 108.60824008, 108.60824008,\n",
       "       108.60824008, 108.60824008, 108.60824008, 108.60824008,\n",
       "       108.60824008, 108.60824008, 108.60824008, 108.60824008,\n",
       "       108.60824008, 146.85925434, 108.60824008, 392.58292383,\n",
       "       108.60824008, 146.85925434, 108.60824008, 197.14496863,\n",
       "       108.60824008, 108.60824008, 146.85925434, 197.14496863,\n",
       "       108.60824008, 197.14496863, 108.60824008, 108.60824008,\n",
       "       108.60824008, 146.85925434, 108.60824008, 146.85925434,\n",
       "       197.14496863, 197.14496863, 197.14496863, 108.60824008,\n",
       "       197.14496863, 108.60824008, 108.60824008, 197.14496863,\n",
       "       108.60824008, 146.85925434, 108.60824008, 197.14496863,\n",
       "       108.60824008, 108.60824008, 108.60824008, 108.60824008,\n",
       "       197.14496863, 108.60824008, 146.85925434, 146.85925434,\n",
       "       197.14496863, 146.85925434, 108.60824008, 108.60824008,\n",
       "       108.60824008, 197.14496863, 108.60824008, 197.14496863,\n",
       "       197.14496863, 146.85925434, 146.85925434])"
      ]
     },
     "execution_count": 26,
     "metadata": {},
     "output_type": "execute_result"
    }
   ],
   "source": [
    "tr_pred"
   ]
  },
  {
   "cell_type": "code",
   "execution_count": 27,
   "id": "567c527c",
   "metadata": {
    "scrolled": false
   },
   "outputs": [
    {
     "data": {
      "text/plain": [
       "array([108.60824008, 197.14496863, 197.14496863, 197.14496863,\n",
       "       108.60824008, 197.14496863, 146.85925434, 146.85925434,\n",
       "       108.60824008, 146.85925434, 146.85925434, 197.14496863,\n",
       "       108.60824008, 108.60824008, 108.60824008, 108.60824008,\n",
       "       197.14496863, 197.14496863, 108.60824008, 197.14496863,\n",
       "       197.14496863, 108.60824008, 146.85925434, 108.60824008,\n",
       "       108.60824008, 146.85925434, 146.85925434, 108.60824008,\n",
       "       108.60824008, 197.14496863, 197.14496863, 146.85925434,\n",
       "       108.60824008, 197.14496863, 108.60824008, 146.85925434,\n",
       "       197.14496863, 108.60824008, 197.14496863, 108.60824008,\n",
       "       108.60824008, 108.60824008, 108.60824008, 197.14496863,\n",
       "       197.14496863, 108.60824008, 108.60824008, 108.60824008,\n",
       "       197.14496863, 392.58292383, 108.60824008, 108.60824008,\n",
       "       108.60824008, 146.85925434, 197.14496863, 197.14496863,\n",
       "       197.14496863, 108.60824008, 197.14496863, 197.14496863,\n",
       "       108.60824008, 108.60824008, 392.58292383, 108.60824008,\n",
       "       197.14496863, 392.58292383, 108.60824008, 108.60824008,\n",
       "       146.85925434, 108.60824008, 108.60824008, 108.60824008,\n",
       "       108.60824008, 146.85925434, 392.58292383, 108.60824008,\n",
       "       108.60824008, 108.60824008, 197.14496863, 146.85925434,\n",
       "       197.14496863, 146.85925434, 197.14496863, 108.60824008,\n",
       "       197.14496863, 197.14496863, 197.14496863, 108.60824008,\n",
       "       108.60824008, 392.58292383, 197.14496863, 197.14496863,\n",
       "       108.60824008, 108.60824008, 108.60824008, 108.60824008,\n",
       "       146.85925434, 392.58292383, 197.14496863, 108.60824008,\n",
       "       108.60824008, 146.85925434, 197.14496863, 197.14496863,\n",
       "       108.60824008, 197.14496863, 197.14496863, 108.60824008,\n",
       "       108.60824008, 146.85925434, 108.60824008, 146.85925434,\n",
       "       108.60824008, 108.60824008, 197.14496863, 108.60824008,\n",
       "       146.85925434, 108.60824008, 197.14496863, 108.60824008,\n",
       "       392.58292383, 108.60824008, 146.85925434])"
      ]
     },
     "execution_count": 27,
     "metadata": {},
     "output_type": "execute_result"
    }
   ],
   "source": [
    "ts_pred"
   ]
  },
  {
   "cell_type": "markdown",
   "id": "1bf528da",
   "metadata": {},
   "source": [
    "# Calculate mae,mse,r2_score"
   ]
  },
  {
   "cell_type": "code",
   "execution_count": 28,
   "id": "6b06094e",
   "metadata": {},
   "outputs": [],
   "source": [
    "from sklearn.metrics import mean_absolute_error,mean_squared_error,r2_score\n",
    "tr_err = mean_absolute_error(ytrain,tr_pred)\n",
    "ts_err = mean_absolute_error(ytest,ts_pred)\n",
    "tr_sq_err = mean_squared_error(ytrain,tr_pred)\n",
    "ts_sq_err = mean_squared_error(ytest,ts_pred)\n",
    "tr_r2 = r2_score(ytrain,tr_pred)\n",
    "ts_r2 = r2_score(ytest,ts_pred)"
   ]
  },
  {
   "cell_type": "code",
   "execution_count": 29,
   "id": "7ed703b9",
   "metadata": {},
   "outputs": [
    {
     "name": "stdout",
     "output_type": "stream",
     "text": [
      "Training Data : \n",
      "MAE :  39.566563484731134\n",
      "MSE :  3582.43225991865\n",
      "R2  :  0.4282739517581472\n"
     ]
    }
   ],
   "source": [
    "print(\"Training Data : \")\n",
    "print(\"MAE : \", tr_err)\n",
    "print(\"MSE : \", tr_sq_err)\n",
    "print(\"R2  : \", tr_r2)"
   ]
  },
  {
   "cell_type": "code",
   "execution_count": 30,
   "id": "2a052361",
   "metadata": {},
   "outputs": [
    {
     "name": "stdout",
     "output_type": "stream",
     "text": [
      "Testing Data : \n",
      "MAE :  47.14506382013052\n",
      "MSE :  4703.889137001734\n",
      "R2  :  0.5322758826044143\n"
     ]
    }
   ],
   "source": [
    "print(\"Testing Data : \")\n",
    "print(\"MAE : \", ts_err)\n",
    "print(\"MSE : \", ts_sq_err)\n",
    "print(\"R2  : \", ts_r2)"
   ]
  },
  {
   "cell_type": "code",
   "execution_count": 31,
   "id": "6925982a",
   "metadata": {},
   "outputs": [],
   "source": [
    "tr = []\n",
    "ts = []\n",
    "for i in range(2,20):\n",
    "    dtr = DecisionTreeRegressor(max_depth=i)\n",
    "    dtr.fit(xtrain,ytrain)\n",
    "    tr_pred = dtr.predict(xtrain)\n",
    "    ts_pred = dtr.predict(xtest)\n",
    "    tr_sq_err = mean_squared_error(ytrain,tr_pred)\n",
    "    ts_sq_err = mean_squared_error(ytest,ts_pred)\n",
    "    tr.append(tr_sq_err)\n",
    "    ts.append(ts_sq_err)"
   ]
  },
  {
   "cell_type": "code",
   "execution_count": 32,
   "id": "456dd4e4",
   "metadata": {},
   "outputs": [
    {
     "data": {
      "text/plain": [
       "[3582.4322599186503,\n",
       " 2890.4805850033117,\n",
       " 2377.7061562963877,\n",
       " 1783.6983317738298,\n",
       " 1528.4799554171757,\n",
       " 1285.5211158285806,\n",
       " 1058.5262363935487,\n",
       " 818.3577960285637,\n",
       " 512.4223059235815,\n",
       " 332.8050371198499,\n",
       " 208.6749514380007,\n",
       " 108.68148278227498,\n",
       " 60.82616621917037,\n",
       " 33.279352268624024,\n",
       " 16.143277505260254,\n",
       " 8.333571461247674,\n",
       " 1.4757298031228785,\n",
       " 0.8099117447386286]"
      ]
     },
     "execution_count": 32,
     "metadata": {},
     "output_type": "execute_result"
    }
   ],
   "source": [
    "tr"
   ]
  },
  {
   "cell_type": "code",
   "execution_count": 33,
   "id": "29c174cb",
   "metadata": {},
   "outputs": [
    {
     "data": {
      "text/plain": [
       "[4703.889137001734,\n",
       " 5006.824414138864,\n",
       " 6627.703302696762,\n",
       " 6894.712247712715,\n",
       " 7871.122615321094,\n",
       " 7065.552283197808,\n",
       " 7058.930176485182,\n",
       " 6728.375613611765,\n",
       " 7166.719984907496,\n",
       " 7968.375757838244,\n",
       " 8051.753195962374,\n",
       " 8357.802185400888,\n",
       " 8290.228267723702,\n",
       " 6504.837133184602,\n",
       " 8036.417866761064,\n",
       " 7558.341081286048,\n",
       " 8445.828224524788,\n",
       " 9232.965061881261]"
      ]
     },
     "execution_count": 33,
     "metadata": {},
     "output_type": "execute_result"
    }
   ],
   "source": [
    "ts"
   ]
  },
  {
   "cell_type": "code",
   "execution_count": 34,
   "id": "7d4bc5e2",
   "metadata": {},
   "outputs": [
    {
     "data": {
      "text/plain": [
       "[<matplotlib.lines.Line2D at 0x1991ca2fad0>]"
      ]
     },
     "execution_count": 34,
     "metadata": {},
     "output_type": "execute_result"
    },
    {
     "data": {
      "image/png": "[encoded data removed]",
      "text/plain": [
       "<Figure size 640x480 with 1 Axes>"
      ]
     },
     "metadata": {},
     "output_type": "display_data"
    }
   ],
   "source": [
    "import matplotlib.pyplot as plt\n",
    "plt.plot(tr,c=\"Blue\")\n",
    "plt.plot(ts,c=\"Red\")"
   ]
  },
  {
   "cell_type": "markdown",
   "id": "48392ee3",
   "metadata": {},
   "source": [
    "# HyperParameters\n"
   ]
  },
  {
   "cell_type": "code",
   "execution_count": 35,
   "id": "3ac22791",
   "metadata": {},
   "outputs": [],
   "source": [
    "params = {'max_depth':[1,2,3,4],\n",
    "          'min_samples_leaf':list(range(2,11)),\n",
    "          'criterion':['absolute_error','squared_error']}"
   ]
  },
  {
   "cell_type": "markdown",
   "id": "da200f2c",
   "metadata": {},
   "source": [
    "# Gridsearch cv model"
   ]
  },
  {
   "cell_type": "code",
   "execution_count": 36,
   "id": "f97b378b",
   "metadata": {},
   "outputs": [
    {
     "data": {
      "text/html": [
       "<style>#sk-container-id-2 {color: black;}#sk-container-id-2 pre{padding: 0;}#sk-container-id-2 div.sk-toggleable {background-color: white;}#sk-container-id-2 label.sk-toggleable__label {cursor: pointer;display: block;width: 100%;margin-bottom: 0;padding: 0.3em;box-sizing: border-box;text-align: center;}#sk-container-id-2 label.sk-toggleable__label-arrow:before {content: \"▸\";float: left;margin-right: 0.25em;color: #696969;}#sk-container-id-2 label.sk-toggleable__label-arrow:hover:before {color: black;}#sk-container-id-2 div.sk-estimator:hover label.sk-toggleable__label-arrow:before {color: black;}#sk-container-id-2 div.sk-toggleable__content {max-height: 0;max-width: 0;overflow: hidden;text-align: left;background-color: #f0f8ff;}#sk-container-id-2 div.sk-toggleable__content pre {margin: 0.2em;color: black;border-radius: 0.25em;background-color: #f0f8ff;}#sk-container-id-2 input.sk-toggleable__control:checked~div.sk-toggleable__content {max-height: 200px;max-width: 100%;overflow: auto;}#sk-container-id-2 input.sk-toggleable__control:checked~label.sk-toggleable__label-arrow:before {content: \"▾\";}#sk-container-id-2 div.sk-estimator input.sk-toggleable__control:checked~label.sk-toggleable__label {background-color: #d4ebff;}#sk-container-id-2 div.sk-label input.sk-toggleable__control:checked~label.sk-toggleable__label {background-color: #d4ebff;}#sk-container-id-2 input.sk-hidden--visually {border: 0;clip: rect(1px 1px 1px 1px);clip: rect(1px, 1px, 1px, 1px);height: 1px;margin: -1px;overflow: hidden;padding: 0;position: absolute;width: 1px;}#sk-container-id-2 div.sk-estimator {font-family: monospace;background-color: #f0f8ff;border: 1px dotted black;border-radius: 0.25em;box-sizing: border-box;margin-bottom: 0.5em;}#sk-container-id-2 div.sk-estimator:hover {background-color: #d4ebff;}#sk-container-id-2 div.sk-parallel-item::after {content: \"\";width: 100%;border-bottom: 1px solid gray;flex-grow: 1;}#sk-container-id-2 div.sk-label:hover label.sk-toggleable__label {background-color: #d4ebff;}#sk-container-id-2 div.sk-serial::before {content: \"\";position: absolute;border-left: 1px solid gray;box-sizing: border-box;top: 0;bottom: 0;left: 50%;z-index: 0;}#sk-container-id-2 div.sk-serial {display: flex;flex-direction: column;align-items: center;background-color: white;padding-right: 0.2em;padding-left: 0.2em;position: relative;}#sk-container-id-2 div.sk-item {position: relative;z-index: 1;}#sk-container-id-2 div.sk-parallel {display: flex;align-items: stretch;justify-content: center;background-color: white;position: relative;}#sk-container-id-2 div.sk-item::before, #sk-container-id-2 div.sk-parallel-item::before {content: \"\";position: absolute;border-left: 1px solid gray;box-sizing: border-box;top: 0;bottom: 0;left: 50%;z-index: -1;}#sk-container-id-2 div.sk-parallel-item {display: flex;flex-direction: column;z-index: 1;position: relative;background-color: white;}#sk-container-id-2 div.sk-parallel-item:first-child::after {align-self: flex-end;width: 50%;}#sk-container-id-2 div.sk-parallel-item:last-child::after {align-self: flex-start;width: 50%;}#sk-container-id-2 div.sk-parallel-item:only-child::after {width: 0;}#sk-container-id-2 div.sk-dashed-wrapped {border: 1px dashed gray;margin: 0 0.4em 0.5em 0.4em;box-sizing: border-box;padding-bottom: 0.4em;background-color: white;}#sk-container-id-2 div.sk-label label {font-family: monospace;font-weight: bold;display: inline-block;line-height: 1.2em;}#sk-container-id-2 div.sk-label-container {text-align: center;}#sk-container-id-2 div.sk-container {/* jupyter's `normalize.less` sets `[hidden] { display: none; }` but bootstrap.min.css set `[hidden] { display: none !important; }` so we also need the `!important` here to be able to override the default hidden behavior on the sphinx rendered scikit-learn.org. See: https://github.com/scikit-learn/scikit-learn/issues/21755 */display: inline-block !important;position: relative;}#sk-container-id-2 div.sk-text-repr-fallback {display: none;}</style><div id=\"sk-container-id-2\" class=\"sk-top-container\"><div class=\"sk-text-repr-fallback\"><pre>GridSearchCV(cv=5, estimator=DecisionTreeRegressor(),\n",
       "             param_grid={&#x27;criterion&#x27;: [&#x27;absolute_error&#x27;, &#x27;squared_error&#x27;],\n",
       "                         &#x27;max_depth&#x27;: [1, 2, 3, 4],\n",
       "                         &#x27;min_samples_leaf&#x27;: [2, 3, 4, 5, 6, 7, 8, 9, 10]},\n",
       "             scoring=&#x27;r2&#x27;)</pre><b>In a Jupyter environment, please rerun this cell to show the HTML representation or trust the notebook. <br />On GitHub, the HTML representation is unable to render, please try loading this page with nbviewer.org.</b></div><div class=\"sk-container\" hidden><div class=\"sk-item sk-dashed-wrapped\"><div class=\"sk-label-container\"><div class=\"sk-label sk-toggleable\"><input class=\"sk-toggleable__control sk-hidden--visually\" id=\"sk-estimator-id-2\" type=\"checkbox\" ><label for=\"sk-estimator-id-2\" class=\"sk-toggleable__label sk-toggleable__label-arrow\">GridSearchCV</label><div class=\"sk-toggleable__content\"><pre>GridSearchCV(cv=5, estimator=DecisionTreeRegressor(),\n",
       "             param_grid={&#x27;criterion&#x27;: [&#x27;absolute_error&#x27;, &#x27;squared_error&#x27;],\n",
       "                         &#x27;max_depth&#x27;: [1, 2, 3, 4],\n",
       "                         &#x27;min_samples_leaf&#x27;: [2, 3, 4, 5, 6, 7, 8, 9, 10]},\n",
       "             scoring=&#x27;r2&#x27;)</pre></div></div></div><div class=\"sk-parallel\"><div class=\"sk-parallel-item\"><div class=\"sk-item\"><div class=\"sk-label-container\"><div class=\"sk-label sk-toggleable\"><input class=\"sk-toggleable__control sk-hidden--visually\" id=\"sk-estimator-id-3\" type=\"checkbox\" ><label for=\"sk-estimator-id-3\" class=\"sk-toggleable__label sk-toggleable__label-arrow\">estimator: DecisionTreeRegressor</label><div class=\"sk-toggleable__content\"><pre>DecisionTreeRegressor()</pre></div></div></div><div class=\"sk-serial\"><div class=\"sk-item\"><div class=\"sk-estimator sk-toggleable\"><input class=\"sk-toggleable__control sk-hidden--visually\" id=\"sk-estimator-id-4\" type=\"checkbox\" ><label for=\"sk-estimator-id-4\" class=\"sk-toggleable__label sk-toggleable__label-arrow\">DecisionTreeRegressor</label><div class=\"sk-toggleable__content\"><pre>DecisionTreeRegressor()</pre></div></div></div></div></div></div></div></div></div></div>"
      ],
      "text/plain": [
       "GridSearchCV(cv=5, estimator=DecisionTreeRegressor(),\n",
       "             param_grid={'criterion': ['absolute_error', 'squared_error'],\n",
       "                         'max_depth': [1, 2, 3, 4],\n",
       "                         'min_samples_leaf': [2, 3, 4, 5, 6, 7, 8, 9, 10]},\n",
       "             scoring='r2')"
      ]
     },
     "execution_count": 36,
     "metadata": {},
     "output_type": "execute_result"
    }
   ],
   "source": [
    "from sklearn.model_selection import GridSearchCV\n",
    "dtr2 = DecisionTreeRegressor()\n",
    "gscv = GridSearchCV(dtr2,param_grid=params,cv=5,scoring='r2')\n",
    "gscv.fit(xtrain,ytrain)"
   ]
  },
  {
   "cell_type": "code",
   "execution_count": 37,
   "id": "fa0c24a9",
   "metadata": {},
   "outputs": [
    {
     "data": {
      "text/plain": [
       "0.3997662918465122"
      ]
     },
     "execution_count": 37,
     "metadata": {},
     "output_type": "execute_result"
    }
   ],
   "source": [
    "gscv.best_score_"
   ]
  },
  {
   "cell_type": "code",
   "execution_count": 38,
   "id": "8cb229b5",
   "metadata": {},
   "outputs": [
    {
     "data": {
      "text/plain": [
       "{'criterion': 'squared_error', 'max_depth': 4, 'min_samples_leaf': 8}"
      ]
     },
     "execution_count": 38,
     "metadata": {},
     "output_type": "execute_result"
    }
   ],
   "source": [
    "gscv.best_params_"
   ]
  },
  {
   "cell_type": "code",
   "execution_count": 39,
   "id": "bcea41d0",
   "metadata": {},
   "outputs": [
    {
     "data": {
      "text/html": [
       "<style>#sk-container-id-3 {color: black;}#sk-container-id-3 pre{padding: 0;}#sk-container-id-3 div.sk-toggleable {background-color: white;}#sk-container-id-3 label.sk-toggleable__label {cursor: pointer;display: block;width: 100%;margin-bottom: 0;padding: 0.3em;box-sizing: border-box;text-align: center;}#sk-container-id-3 label.sk-toggleable__label-arrow:before {content: \"▸\";float: left;margin-right: 0.25em;color: #696969;}#sk-container-id-3 label.sk-toggleable__label-arrow:hover:before {color: black;}#sk-container-id-3 div.sk-estimator:hover label.sk-toggleable__label-arrow:before {color: black;}#sk-container-id-3 div.sk-toggleable__content {max-height: 0;max-width: 0;overflow: hidden;text-align: left;background-color: #f0f8ff;}#sk-container-id-3 div.sk-toggleable__content pre {margin: 0.2em;color: black;border-radius: 0.25em;background-color: #f0f8ff;}#sk-container-id-3 input.sk-toggleable__control:checked~div.sk-toggleable__content {max-height: 200px;max-width: 100%;overflow: auto;}#sk-container-id-3 input.sk-toggleable__control:checked~label.sk-toggleable__label-arrow:before {content: \"▾\";}#sk-container-id-3 div.sk-estimator input.sk-toggleable__control:checked~label.sk-toggleable__label {background-color: #d4ebff;}#sk-container-id-3 div.sk-label input.sk-toggleable__control:checked~label.sk-toggleable__label {background-color: #d4ebff;}#sk-container-id-3 input.sk-hidden--visually {border: 0;clip: rect(1px 1px 1px 1px);clip: rect(1px, 1px, 1px, 1px);height: 1px;margin: -1px;overflow: hidden;padding: 0;position: absolute;width: 1px;}#sk-container-id-3 div.sk-estimator {font-family: monospace;background-color: #f0f8ff;border: 1px dotted black;border-radius: 0.25em;box-sizing: border-box;margin-bottom: 0.5em;}#sk-container-id-3 div.sk-estimator:hover {background-color: #d4ebff;}#sk-container-id-3 div.sk-parallel-item::after {content: \"\";width: 100%;border-bottom: 1px solid gray;flex-grow: 1;}#sk-container-id-3 div.sk-label:hover label.sk-toggleable__label {background-color: #d4ebff;}#sk-container-id-3 div.sk-serial::before {content: \"\";position: absolute;border-left: 1px solid gray;box-sizing: border-box;top: 0;bottom: 0;left: 50%;z-index: 0;}#sk-container-id-3 div.sk-serial {display: flex;flex-direction: column;align-items: center;background-color: white;padding-right: 0.2em;padding-left: 0.2em;position: relative;}#sk-container-id-3 div.sk-item {position: relative;z-index: 1;}#sk-container-id-3 div.sk-parallel {display: flex;align-items: stretch;justify-content: center;background-color: white;position: relative;}#sk-container-id-3 div.sk-item::before, #sk-container-id-3 div.sk-parallel-item::before {content: \"\";position: absolute;border-left: 1px solid gray;box-sizing: border-box;top: 0;bottom: 0;left: 50%;z-index: -1;}#sk-container-id-3 div.sk-parallel-item {display: flex;flex-direction: column;z-index: 1;position: relative;background-color: white;}#sk-container-id-3 div.sk-parallel-item:first-child::after {align-self: flex-end;width: 50%;}#sk-container-id-3 div.sk-parallel-item:last-child::after {align-self: flex-start;width: 50%;}#sk-container-id-3 div.sk-parallel-item:only-child::after {width: 0;}#sk-container-id-3 div.sk-dashed-wrapped {border: 1px dashed gray;margin: 0 0.4em 0.5em 0.4em;box-sizing: border-box;padding-bottom: 0.4em;background-color: white;}#sk-container-id-3 div.sk-label label {font-family: monospace;font-weight: bold;display: inline-block;line-height: 1.2em;}#sk-container-id-3 div.sk-label-container {text-align: center;}#sk-container-id-3 div.sk-container {/* jupyter's `normalize.less` sets `[hidden] { display: none; }` but bootstrap.min.css set `[hidden] { display: none !important; }` so we also need the `!important` here to be able to override the default hidden behavior on the sphinx rendered scikit-learn.org. See: https://github.com/scikit-learn/scikit-learn/issues/21755 */display: inline-block !important;position: relative;}#sk-container-id-3 div.sk-text-repr-fallback {display: none;}</style><div id=\"sk-container-id-3\" class=\"sk-top-container\"><div class=\"sk-text-repr-fallback\"><pre>DecisionTreeRegressor(max_depth=4, min_samples_leaf=8)</pre><b>In a Jupyter environment, please rerun this cell to show the HTML representation or trust the notebook. <br />On GitHub, the HTML representation is unable to render, please try loading this page with nbviewer.org.</b></div><div class=\"sk-container\" hidden><div class=\"sk-item\"><div class=\"sk-estimator sk-toggleable\"><input class=\"sk-toggleable__control sk-hidden--visually\" id=\"sk-estimator-id-5\" type=\"checkbox\" checked><label for=\"sk-estimator-id-5\" class=\"sk-toggleable__label sk-toggleable__label-arrow\">DecisionTreeRegressor</label><div class=\"sk-toggleable__content\"><pre>DecisionTreeRegressor(max_depth=4, min_samples_leaf=8)</pre></div></div></div></div></div>"
      ],
      "text/plain": [
       "DecisionTreeRegressor(max_depth=4, min_samples_leaf=8)"
      ]
     },
     "execution_count": 39,
     "metadata": {},
     "output_type": "execute_result"
    }
   ],
   "source": [
    "gscv.best_estimator_"
   ]
  },
  {
   "cell_type": "code",
   "execution_count": 40,
   "id": "4ab83a5b",
   "metadata": {},
   "outputs": [],
   "source": [
    "tr_pred = gscv.predict(xtrain)\n",
    "ts_pred = gscv.predict(xtest)"
   ]
  },
  {
   "cell_type": "code",
   "execution_count": 41,
   "id": "74b2939b",
   "metadata": {
    "scrolled": false
   },
   "outputs": [
    {
     "data": {
      "text/plain": [
       "array([115.94118767,  93.87653563, 207.21692005, 161.01831832,\n",
       "        93.87653563, 161.01831832,  93.87653563, 392.58292383,\n",
       "       118.32791834,  93.87653563, 280.88888889, 132.58170671,\n",
       "        93.87653563, 132.58170671, 152.33648649, 132.58170671,\n",
       "       132.58170671, 207.21692005, 115.94118767, 118.32791834,\n",
       "        93.87653563, 392.58292383,  93.87653563, 115.94118767,\n",
       "       118.32791834, 152.33648649, 115.94118767, 207.21692005,\n",
       "       152.33648649, 152.33648649, 132.58170671, 152.33648649,\n",
       "       161.01831832, 115.94118767, 236.        , 155.9654213 ,\n",
       "        93.87653563,  93.87653563, 115.94118767, 280.88888889,\n",
       "       152.33648649, 115.94118767, 207.21692005, 118.32791834,\n",
       "        93.87653563, 132.58170671, 161.01831832, 115.94118767,\n",
       "       115.94118767, 152.33648649, 161.01831832, 115.94118767,\n",
       "       207.21692005, 152.33648649, 118.32791834, 392.58292383,\n",
       "       115.94118767,  93.87653563, 207.21692005, 132.58170671,\n",
       "        93.87653563, 207.21692005, 207.21692005, 132.58170671,\n",
       "       115.94118767, 236.        , 155.9654213 ,  93.87653563,\n",
       "       236.        , 115.94118767, 115.94118767, 392.58292383,\n",
       "        93.87653563,  93.87653563, 118.32791834, 132.58170671,\n",
       "       207.21692005, 280.88888889, 161.01831832, 132.58170671,\n",
       "       132.58170671, 118.32791834, 132.58170671, 115.94118767,\n",
       "       118.32791834, 115.94118767, 118.32791834,  93.87653563,\n",
       "       152.33648649,  93.87653563,  93.87653563, 132.58170671,\n",
       "       152.33648649, 132.58170671, 115.94118767, 115.94118767,\n",
       "        93.87653563, 118.32791834, 152.33648649, 115.94118767,\n",
       "       161.01831832,  93.87653563, 132.58170671,  93.87653563,\n",
       "       118.32791834,  93.87653563, 207.21692005, 161.01831832,\n",
       "       155.9654213 , 161.01831832,  93.87653563, 132.58170671,\n",
       "       118.32791834, 115.94118767, 118.32791834,  93.87653563,\n",
       "        93.87653563, 161.01831832, 115.94118767, 115.94118767,\n",
       "       236.        , 392.58292383, 115.94118767, 118.32791834,\n",
       "       115.94118767,  93.87653563, 132.58170671, 207.21692005,\n",
       "        93.87653563, 132.58170671,  93.87653563, 132.58170671,\n",
       "       115.94118767, 207.21692005, 161.01831832,  93.87653563,\n",
       "       152.33648649, 207.21692005, 132.58170671, 115.94118767,\n",
       "       132.58170671, 236.        , 115.94118767, 115.94118767,\n",
       "       115.94118767,  93.87653563, 115.94118767, 152.33648649,\n",
       "       280.88888889, 207.21692005, 118.32791834, 207.21692005,\n",
       "       236.        ,  93.87653563, 115.94118767, 115.94118767,\n",
       "       118.32791834,  93.87653563, 118.32791834,  93.87653563,\n",
       "       207.21692005, 161.01831832, 132.58170671,  93.87653563,\n",
       "       132.58170671, 155.9654213 , 152.33648649,  93.87653563,\n",
       "       115.94118767, 118.32791834, 118.32791834, 115.94118767,\n",
       "       207.21692005, 207.21692005, 207.21692005, 209.        ,\n",
       "       209.        , 118.32791834,  93.87653563, 115.94118767,\n",
       "       236.        , 207.21692005, 161.01831832,  93.87653563,\n",
       "       115.94118767,  93.87653563, 132.58170671, 132.58170671,\n",
       "       132.58170671, 161.01831832, 115.94118767, 155.9654213 ,\n",
       "       115.94118767, 118.32791834, 115.94118767, 118.32791834,\n",
       "       118.32791834, 155.9654213 ,  93.87653563, 152.33648649,\n",
       "       152.33648649, 152.33648649, 152.33648649, 161.01831832,\n",
       "       152.33648649,  93.87653563, 115.94118767, 132.58170671,\n",
       "       115.94118767, 161.01831832,  93.87653563, 392.58292383,\n",
       "       152.33648649, 118.32791834, 132.58170671, 118.32791834,\n",
       "        93.87653563, 115.94118767,  93.87653563,  93.87653563,\n",
       "       118.32791834,  93.87653563, 152.33648649, 152.33648649,\n",
       "       207.21692005, 118.32791834,  93.87653563, 161.01831832,\n",
       "       132.58170671, 152.33648649, 207.21692005, 392.58292383,\n",
       "        93.87653563, 155.9654213 , 115.94118767, 155.9654213 ,\n",
       "       152.33648649, 115.94118767, 161.01831832, 132.58170671,\n",
       "       207.21692005, 207.21692005, 118.32791834, 161.01831832,\n",
       "       132.58170671,  93.87653563, 161.01831832,  93.87653563,\n",
       "       207.21692005, 207.21692005, 115.94118767, 132.58170671,\n",
       "       161.01831832,  93.87653563,  93.87653563, 115.94118767,\n",
       "       132.58170671,  93.87653563,  93.87653563, 152.33648649,\n",
       "       118.32791834, 115.94118767, 207.21692005, 152.33648649,\n",
       "       152.33648649,  93.87653563, 118.32791834, 118.32791834,\n",
       "       115.94118767,  93.87653563,  93.87653563, 118.32791834,\n",
       "       207.21692005, 152.33648649, 155.9654213 , 280.88888889,\n",
       "       152.33648649, 115.94118767, 132.58170671, 118.32791834,\n",
       "        93.87653563, 161.01831832, 161.01831832, 280.88888889,\n",
       "        93.87653563, 152.33648649, 207.21692005,  93.87653563,\n",
       "       132.58170671, 132.58170671, 152.33648649, 118.32791834,\n",
       "       115.94118767, 207.21692005,  93.87653563, 161.01831832,\n",
       "       161.01831832, 392.58292383,  93.87653563,  93.87653563,\n",
       "        93.87653563,  93.87653563, 132.58170671, 115.94118767,\n",
       "       115.94118767,  93.87653563,  93.87653563, 118.32791834,\n",
       "        93.87653563, 236.        , 392.58292383, 132.58170671,\n",
       "        93.87653563,  93.87653563, 155.9654213 , 152.33648649,\n",
       "        93.87653563,  93.87653563,  93.87653563, 132.58170671,\n",
       "       207.21692005, 207.21692005, 152.33648649,  93.87653563,\n",
       "       209.        ,  93.87653563,  93.87653563, 132.58170671,\n",
       "       118.32791834,  93.87653563, 115.94118767, 152.33648649,\n",
       "        93.87653563, 115.94118767, 115.94118767, 115.94118767,\n",
       "        93.87653563, 118.32791834, 209.        , 115.94118767,\n",
       "       132.58170671, 115.94118767, 132.58170671, 207.21692005,\n",
       "       118.32791834, 118.32791834, 161.01831832,  93.87653563,\n",
       "        93.87653563, 207.21692005, 161.01831832, 132.58170671,\n",
       "       152.33648649, 152.33648649, 161.01831832,  93.87653563,\n",
       "        93.87653563, 161.01831832, 132.58170671, 115.94118767,\n",
       "       161.01831832, 118.32791834, 132.58170671, 207.21692005,\n",
       "        93.87653563, 280.88888889, 152.33648649, 161.01831832,\n",
       "        93.87653563,  93.87653563, 207.21692005,  93.87653563,\n",
       "       132.58170671, 115.94118767,  93.87653563, 161.01831832,\n",
       "        93.87653563, 236.        , 207.21692005, 209.        ,\n",
       "       161.01831832,  93.87653563,  93.87653563,  93.87653563,\n",
       "        93.87653563, 207.21692005,  93.87653563, 207.21692005,\n",
       "       155.9654213 ,  93.87653563, 152.33648649, 118.32791834,\n",
       "       207.21692005, 236.        , 209.        , 152.33648649,\n",
       "       132.58170671, 161.01831832, 152.33648649,  93.87653563,\n",
       "        93.87653563, 115.94118767, 161.01831832, 392.58292383,\n",
       "       207.21692005, 118.32791834, 155.9654213 , 132.58170671,\n",
       "       132.58170671, 118.32791834,  93.87653563, 207.21692005,\n",
       "       161.01831832, 152.33648649, 132.58170671, 155.9654213 ,\n",
       "       155.9654213 , 207.21692005, 161.01831832, 155.9654213 ,\n",
       "       115.94118767, 152.33648649, 161.01831832,  93.87653563,\n",
       "       152.33648649, 115.94118767, 155.9654213 , 152.33648649,\n",
       "       152.33648649, 115.94118767,  93.87653563,  93.87653563,\n",
       "        93.87653563,  93.87653563,  93.87653563,  93.87653563,\n",
       "       115.94118767, 115.94118767,  93.87653563, 115.94118767,\n",
       "        93.87653563, 152.33648649, 118.32791834, 392.58292383,\n",
       "       118.32791834, 152.33648649,  93.87653563, 161.01831832,\n",
       "        93.87653563, 115.94118767, 132.58170671, 207.21692005,\n",
       "       155.9654213 , 280.88888889,  93.87653563, 118.32791834,\n",
       "        93.87653563, 152.33648649,  93.87653563, 132.58170671,\n",
       "       207.21692005, 280.88888889, 207.21692005, 115.94118767,\n",
       "       207.21692005, 118.32791834,  93.87653563, 161.01831832,\n",
       "        93.87653563, 152.33648649, 115.94118767, 161.01831832,\n",
       "        93.87653563,  93.87653563,  93.87653563, 115.94118767,\n",
       "       161.01831832,  93.87653563, 132.58170671, 209.        ,\n",
       "       207.21692005, 209.        ,  93.87653563,  93.87653563,\n",
       "        93.87653563, 161.01831832,  93.87653563, 161.01831832,\n",
       "       161.01831832, 152.33648649, 132.58170671])"
      ]
     },
     "execution_count": 41,
     "metadata": {},
     "output_type": "execute_result"
    }
   ],
   "source": [
    "tr_pred"
   ]
  },
  {
   "cell_type": "code",
   "execution_count": 42,
   "id": "8f9ba1b7",
   "metadata": {
    "scrolled": false
   },
   "outputs": [
    {
     "data": {
      "text/plain": [
       "array([115.94118767, 207.21692005, 161.01831832, 207.21692005,\n",
       "       115.94118767, 161.01831832, 152.33648649, 152.33648649,\n",
       "       118.32791834, 132.58170671, 132.58170671, 161.01831832,\n",
       "       115.94118767,  93.87653563, 115.94118767, 115.94118767,\n",
       "       161.01831832, 161.01831832,  93.87653563, 161.01831832,\n",
       "       161.01831832, 115.94118767, 152.33648649, 118.32791834,\n",
       "        93.87653563, 152.33648649, 152.33648649,  93.87653563,\n",
       "       118.32791834, 236.        , 161.01831832, 209.        ,\n",
       "        93.87653563, 161.01831832, 118.32791834, 152.33648649,\n",
       "       161.01831832, 115.94118767, 161.01831832,  93.87653563,\n",
       "        93.87653563,  93.87653563,  93.87653563, 161.01831832,\n",
       "       207.21692005,  93.87653563, 115.94118767,  93.87653563,\n",
       "       207.21692005, 392.58292383, 118.32791834, 115.94118767,\n",
       "        93.87653563, 132.58170671, 161.01831832, 207.21692005,\n",
       "       161.01831832, 115.94118767, 161.01831832, 236.        ,\n",
       "       118.32791834, 118.32791834, 392.58292383, 115.94118767,\n",
       "       236.        , 392.58292383,  93.87653563, 118.32791834,\n",
       "       132.58170671, 155.9654213 ,  93.87653563,  93.87653563,\n",
       "       115.94118767, 132.58170671, 392.58292383,  93.87653563,\n",
       "       115.94118767,  93.87653563, 236.        , 152.33648649,\n",
       "       207.21692005, 152.33648649, 207.21692005, 115.94118767,\n",
       "       280.88888889, 280.88888889, 236.        , 115.94118767,\n",
       "        93.87653563, 392.58292383, 161.01831832, 207.21692005,\n",
       "       155.9654213 , 115.94118767,  93.87653563,  93.87653563,\n",
       "       152.33648649, 392.58292383, 207.21692005, 118.32791834,\n",
       "       115.94118767, 132.58170671, 280.88888889, 207.21692005,\n",
       "       115.94118767, 161.01831832, 207.21692005,  93.87653563,\n",
       "       155.9654213 , 132.58170671, 115.94118767, 152.33648649,\n",
       "       115.94118767, 118.32791834, 207.21692005, 155.9654213 ,\n",
       "       152.33648649,  93.87653563, 161.01831832, 118.32791834,\n",
       "       392.58292383,  93.87653563, 132.58170671])"
      ]
     },
     "execution_count": 42,
     "metadata": {},
     "output_type": "execute_result"
    }
   ],
   "source": [
    "ts_pred"
   ]
  },
  {
   "cell_type": "code",
   "execution_count": 43,
   "id": "bdd812e5",
   "metadata": {},
   "outputs": [],
   "source": [
    "tr_err = mean_absolute_error(ytrain,tr_pred)\n",
    "ts_err = mean_absolute_error(ytest,ts_pred)\n",
    "tr_sq_err = mean_squared_error(ytrain,tr_pred)\n",
    "ts_sq_err = mean_squared_error(ytest,ts_pred)\n",
    "tr_r2 = r2_score(ytrain,tr_pred)\n",
    "ts_r2 = r2_score(ytest,ts_pred)"
   ]
  },
  {
   "cell_type": "code",
   "execution_count": 44,
   "id": "42ef5fba",
   "metadata": {},
   "outputs": [
    {
     "name": "stdout",
     "output_type": "stream",
     "text": [
      "Training Data : \n",
      "MAE :  36.26648648604193\n",
      "MSE :  3057.2626685860696\n",
      "R2  :  0.5120866000721681\n"
     ]
    }
   ],
   "source": [
    "print(\"Training Data : \")\n",
    "print(\"MAE : \", tr_err)\n",
    "print(\"MSE : \", tr_sq_err)\n",
    "print(\"R2  : \", tr_r2)"
   ]
  },
  {
   "cell_type": "code",
   "execution_count": 45,
   "id": "9a31c6b3",
   "metadata": {},
   "outputs": [
    {
     "name": "stdout",
     "output_type": "stream",
     "text": [
      "Testing Data : \n",
      "MAE :  40.77962675606683\n",
      "MSE :  3943.004550188087\n",
      "R2  :  0.6079332931942734\n"
     ]
    }
   ],
   "source": [
    "print(\"Testing Data : \")\n",
    "print(\"MAE : \", ts_err)\n",
    "print(\"MSE : \", ts_sq_err)\n",
    "print(\"R2  : \", ts_r2)"
   ]
  },
  {
   "cell_type": "markdown",
   "id": "cdf756f2",
   "metadata": {},
   "source": [
    "# Final model"
   ]
  },
  {
   "cell_type": "code",
   "execution_count": 46,
   "id": "4fee6670",
   "metadata": {},
   "outputs": [
    {
     "data": {
      "text/plain": [
       "array([0.00000000e+00, 1.48186509e-14, 1.48186509e-14, 1.01832994e-03,\n",
       "       1.01832994e-03, 1.01832994e-03, 1.01832994e-03, 1.01832994e-03,\n",
       "       1.01832994e-03, 1.01832994e-03, 1.01832994e-03, 1.01832994e-03,\n",
       "       1.01832994e-03, 1.01832994e-03, 1.01832994e-03, 1.35777325e-03,\n",
       "       2.56744297e-03, 3.05498982e-03, 4.07331976e-03, 4.07331976e-03,\n",
       "       4.07331976e-03, 4.07331976e-03, 4.07331976e-03, 4.07331976e-03,\n",
       "       4.07331976e-03, 4.07331976e-03, 4.07331976e-03, 4.07331976e-03,\n",
       "       4.07331976e-03, 4.07331976e-03, 4.07331976e-03, 4.07331976e-03,\n",
       "       5.43109301e-03, 7.90023937e-03, 8.48608282e-03, 9.16496945e-03,\n",
       "       9.16496945e-03, 9.16496945e-03, 9.16496945e-03, 9.16496945e-03,\n",
       "       9.16496945e-03, 9.16496945e-03, 9.16496945e-03, 9.16496945e-03,\n",
       "       9.16496945e-03, 9.16496945e-03, 1.22199593e-02, 1.42566191e-02,\n",
       "       1.62932790e-02, 1.62932790e-02, 1.62932790e-02, 1.62932790e-02,\n",
       "       1.62932790e-02, 1.62932790e-02, 1.62932790e-02, 1.66327223e-02,\n",
       "       1.90936864e-02, 1.98240071e-02, 2.17243720e-02, 2.17243720e-02,\n",
       "       2.54582485e-02, 2.54582485e-02, 2.54582485e-02, 2.54582485e-02,\n",
       "       2.54582485e-02, 2.98284107e-02, 3.17962645e-02, 3.25865580e-02,\n",
       "       3.32654447e-02, 3.39443313e-02, 3.39443313e-02, 3.39443313e-02,\n",
       "       3.66598778e-02, 3.66598778e-02, 3.66598778e-02, 3.66598778e-02,\n",
       "       3.66598778e-02, 3.66598778e-02, 3.66598778e-02, 3.66598778e-02,\n",
       "       4.10726409e-02, 4.12423625e-02, 4.34487441e-02, 4.49083503e-02,\n",
       "       4.88798371e-02, 4.90495587e-02, 4.98981670e-02, 4.98981670e-02,\n",
       "       4.98981670e-02, 4.98981670e-02, 4.98981670e-02, 5.49898167e-02,\n",
       "       5.73659199e-02, 5.86558045e-02, 6.51731161e-02, 6.51731161e-02,\n",
       "       6.51731161e-02, 6.51731161e-02, 6.51731161e-02, 6.51731161e-02,\n",
       "       6.51731161e-02, 7.33197556e-02, 8.21452817e-02, 8.24847251e-02,\n",
       "       8.68974881e-02, 9.30074678e-02, 9.36116440e-02, 9.40067908e-02,\n",
       "       9.78615071e-02, 1.00814664e-01, 1.01832994e-01, 1.01832994e-01,\n",
       "       1.09979633e-01, 1.09979633e-01, 1.09979633e-01, 1.17718941e-01,\n",
       "       1.22539036e-01, 1.23217923e-01, 1.23217923e-01, 1.23217923e-01,\n",
       "       1.23217923e-01, 1.23217923e-01, 1.23727088e-01, 1.33061779e-01,\n",
       "       1.36710794e-01, 1.45039278e-01, 1.46639511e-01, 1.49694501e-01,\n",
       "       1.52749491e-01, 1.63102512e-01, 1.64290563e-01, 1.72097760e-01,\n",
       "       1.72097760e-01, 1.72097760e-01, 1.72097760e-01, 1.72097760e-01,\n",
       "       1.72097760e-01, 1.72606925e-01, 1.79565513e-01, 1.88013582e-01,\n",
       "       1.99592668e-01, 2.11517737e-01, 2.15478615e-01, 2.29124236e-01,\n",
       "       2.29124236e-01, 2.29463680e-01, 2.29463680e-01, 2.41888740e-01,\n",
       "       2.58146640e-01, 2.60692464e-01, 2.66123557e-01, 2.69348269e-01,\n",
       "       2.74296402e-01, 2.80040733e-01, 2.81822811e-01, 2.85471826e-01,\n",
       "       2.94297352e-01, 2.95723014e-01, 3.05498982e-01, 3.23217923e-01,\n",
       "       3.26205024e-01, 3.29938900e-01, 3.29938900e-01, 3.29938900e-01,\n",
       "       3.33369371e-01, 3.69653768e-01, 3.71181263e-01, 3.77842838e-01,\n",
       "       3.96667819e-01, 4.07331976e-01, 4.07331976e-01, 4.39918534e-01,\n",
       "       4.43584521e-01, 4.44297352e-01, 4.90156144e-01, 5.29735234e-01,\n",
       "       5.38696538e-01, 5.38696538e-01, 5.40478615e-01, 5.43109301e-01,\n",
       "       5.52831927e-01, 5.86558045e-01, 5.86558045e-01, 5.86558045e-01,\n",
       "       5.90801086e-01, 6.36456212e-01, 6.36456212e-01, 6.36456212e-01,\n",
       "       6.73243381e-01, 6.73625255e-01, 6.88391039e-01, 6.88391039e-01,\n",
       "       6.98283387e-01, 7.10389318e-01, 7.13203161e-01, 7.34283775e-01,\n",
       "       7.42362525e-01, 7.42362525e-01, 7.58859470e-01, 7.70112016e-01,\n",
       "       7.84792940e-01, 7.98370672e-01, 8.08044807e-01, 8.15003394e-01,\n",
       "       8.56415479e-01, 8.81704005e-01, 8.94399185e-01, 9.16496945e-01,\n",
       "       9.17854718e-01, 9.25503508e-01, 9.29327902e-01, 9.45021498e-01,\n",
       "       9.51071671e-01, 9.63747454e-01, 9.78615071e-01, 1.00627970e+00,\n",
       "       1.02681602e+00, 1.03258656e+00, 1.04276986e+00, 1.04276986e+00,\n",
       "       1.05947047e+00, 1.06466012e+00, 1.10285132e+00, 1.10285132e+00,\n",
       "       1.10285132e+00, 1.14188730e+00, 1.16588595e+00, 1.17718941e+00,\n",
       "       1.26306857e+00, 1.26306857e+00, 1.30482010e+00, 1.31975560e+00,\n",
       "       1.36863544e+00, 1.37347034e+00, 1.38905053e+00, 1.39409369e+00,\n",
       "       1.43414800e+00, 1.48506449e+00, 1.54792940e+00, 1.57718941e+00,\n",
       "       1.58370672e+00, 1.59593517e+00, 1.61004752e+00, 1.64246436e+00,\n",
       "       1.65837896e+00, 1.66843177e+00, 1.68594207e+00, 1.72382892e+00,\n",
       "       1.73794976e+00, 1.75967413e+00, 1.77987822e+00, 1.78167006e+00,\n",
       "       1.79633401e+00, 1.80392784e+00, 1.82593347e+00, 1.87707626e+00,\n",
       "       1.89334691e+00, 1.89471438e+00, 1.95603898e+00, 1.98513238e+00,\n",
       "       2.02454175e+00, 2.04090292e+00, 2.05871970e+00, 2.12898846e+00,\n",
       "       2.15122200e+00, 2.16653851e+00, 2.17642708e+00, 2.17942004e+00,\n",
       "       2.19008726e+00, 2.27095899e+00, 2.27305790e+00, 2.28736747e+00,\n",
       "       2.32691395e+00, 2.39511202e+00, 2.42505092e+00, 2.42505092e+00,\n",
       "       2.51052274e+00, 2.52613714e+00, 2.54582485e+00, 2.56924644e+00,\n",
       "       2.56924644e+00, 2.60157841e+00, 2.65892356e+00, 2.70345850e+00,\n",
       "       2.73590971e+00, 2.73744060e+00, 2.75314244e+00, 2.75356415e+00,\n",
       "       2.84873534e+00, 2.85955775e+00, 2.97060621e+00, 3.08004073e+00,\n",
       "       3.13815343e+00, 3.19348269e+00, 3.23242169e+00, 3.25600815e+00,\n",
       "       3.28492872e+00, 3.30672078e+00, 3.32654447e+00, 3.34557235e+00,\n",
       "       3.38394263e+00, 3.42566191e+00, 3.65002791e+00, 3.66598778e+00,\n",
       "       3.71306803e+00, 3.74386007e+00, 3.74764814e+00, 3.80871833e+00,\n",
       "       4.04175153e+00, 4.10726409e+00, 4.21607545e+00, 4.25797692e+00,\n",
       "       4.30244399e+00, 4.43450715e+00, 4.57128310e+00, 4.70875764e+00,\n",
       "       4.70875764e+00, 4.75504027e+00, 4.86560210e+00, 4.88798371e+00,\n",
       "       4.96283096e+00, 5.05932506e+00, 5.18454078e+00, 5.57637475e+00,\n",
       "       5.61354379e+00, 5.78845893e+00, 6.11708739e+00, 6.14767670e+00,\n",
       "       6.23226409e+00, 6.37101154e+00, 6.53091359e+00, 6.55883684e+00,\n",
       "       6.58710386e+00, 6.72114732e+00, 6.98871088e+00, 7.20101430e+00,\n",
       "       7.35743381e+00, 7.40144399e+00, 7.53598099e+00, 7.94602851e+00,\n",
       "       8.42066036e+00, 8.69655932e+00, 8.82281059e+00, 8.96203084e+00,\n",
       "       9.10159333e+00, 9.15356415e+00, 9.17637475e+00, 9.69467074e+00,\n",
       "       9.98694741e+00, 1.01832994e+01, 1.01832994e+01, 1.09368805e+01,\n",
       "       1.11805876e+01, 1.13349843e+01, 1.28931660e+01, 1.34673062e+01,\n",
       "       1.35632618e+01, 1.36520997e+01, 1.37714149e+01, 1.40692491e+01,\n",
       "       1.46639511e+01, 1.86346891e+01, 1.88546504e+01, 1.89900349e+01,\n",
       "       1.98419190e+01, 2.04471341e+01, 2.10101501e+01, 2.14701745e+01,\n",
       "       2.17067210e+01, 2.46108485e+01, 2.69229967e+01, 2.82274216e+01,\n",
       "       3.05498982e+01, 3.45846974e+01, 3.60186075e+01, 4.12566685e+01,\n",
       "       4.43664995e+01, 5.34993211e+01, 6.59599680e+01, 6.75655099e+01,\n",
       "       7.47462990e+01, 8.48023010e+01, 1.00552754e+02, 1.09896706e+02,\n",
       "       1.70261065e+02, 2.09690647e+02, 2.32174537e+02, 2.48370957e+02,\n",
       "       3.29893217e+02, 7.79187406e+02, 1.67220027e+03])"
      ]
     },
     "execution_count": 46,
     "metadata": {},
     "output_type": "execute_result"
    }
   ],
   "source": [
    "dtr3 = DecisionTreeRegressor()\n",
    "alphas = dtr3.cost_complexity_pruning_path(xtrain,ytrain)[\"ccp_alphas\"]\n",
    "alphas"
   ]
  },
  {
   "cell_type": "code",
   "execution_count": 47,
   "id": "aa00a550",
   "metadata": {},
   "outputs": [
    {
     "data": {
      "text/html": [
       "<style>#sk-container-id-4 {color: black;}#sk-container-id-4 pre{padding: 0;}#sk-container-id-4 div.sk-toggleable {background-color: white;}#sk-container-id-4 label.sk-toggleable__label {cursor: pointer;display: block;width: 100%;margin-bottom: 0;padding: 0.3em;box-sizing: border-box;text-align: center;}#sk-container-id-4 label.sk-toggleable__label-arrow:before {content: \"▸\";float: left;margin-right: 0.25em;color: #696969;}#sk-container-id-4 label.sk-toggleable__label-arrow:hover:before {color: black;}#sk-container-id-4 div.sk-estimator:hover label.sk-toggleable__label-arrow:before {color: black;}#sk-container-id-4 div.sk-toggleable__content {max-height: 0;max-width: 0;overflow: hidden;text-align: left;background-color: #f0f8ff;}#sk-container-id-4 div.sk-toggleable__content pre {margin: 0.2em;color: black;border-radius: 0.25em;background-color: #f0f8ff;}#sk-container-id-4 input.sk-toggleable__control:checked~div.sk-toggleable__content {max-height: 200px;max-width: 100%;overflow: auto;}#sk-container-id-4 input.sk-toggleable__control:checked~label.sk-toggleable__label-arrow:before {content: \"▾\";}#sk-container-id-4 div.sk-estimator input.sk-toggleable__control:checked~label.sk-toggleable__label {background-color: #d4ebff;}#sk-container-id-4 div.sk-label input.sk-toggleable__control:checked~label.sk-toggleable__label {background-color: #d4ebff;}#sk-container-id-4 input.sk-hidden--visually {border: 0;clip: rect(1px 1px 1px 1px);clip: rect(1px, 1px, 1px, 1px);height: 1px;margin: -1px;overflow: hidden;padding: 0;position: absolute;width: 1px;}#sk-container-id-4 div.sk-estimator {font-family: monospace;background-color: #f0f8ff;border: 1px dotted black;border-radius: 0.25em;box-sizing: border-box;margin-bottom: 0.5em;}#sk-container-id-4 div.sk-estimator:hover {background-color: #d4ebff;}#sk-container-id-4 div.sk-parallel-item::after {content: \"\";width: 100%;border-bottom: 1px solid gray;flex-grow: 1;}#sk-container-id-4 div.sk-label:hover label.sk-toggleable__label {background-color: #d4ebff;}#sk-container-id-4 div.sk-serial::before {content: \"\";position: absolute;border-left: 1px solid gray;box-sizing: border-box;top: 0;bottom: 0;left: 50%;z-index: 0;}#sk-container-id-4 div.sk-serial {display: flex;flex-direction: column;align-items: center;background-color: white;padding-right: 0.2em;padding-left: 0.2em;position: relative;}#sk-container-id-4 div.sk-item {position: relative;z-index: 1;}#sk-container-id-4 div.sk-parallel {display: flex;align-items: stretch;justify-content: center;background-color: white;position: relative;}#sk-container-id-4 div.sk-item::before, #sk-container-id-4 div.sk-parallel-item::before {content: \"\";position: absolute;border-left: 1px solid gray;box-sizing: border-box;top: 0;bottom: 0;left: 50%;z-index: -1;}#sk-container-id-4 div.sk-parallel-item {display: flex;flex-direction: column;z-index: 1;position: relative;background-color: white;}#sk-container-id-4 div.sk-parallel-item:first-child::after {align-self: flex-end;width: 50%;}#sk-container-id-4 div.sk-parallel-item:last-child::after {align-self: flex-start;width: 50%;}#sk-container-id-4 div.sk-parallel-item:only-child::after {width: 0;}#sk-container-id-4 div.sk-dashed-wrapped {border: 1px dashed gray;margin: 0 0.4em 0.5em 0.4em;box-sizing: border-box;padding-bottom: 0.4em;background-color: white;}#sk-container-id-4 div.sk-label label {font-family: monospace;font-weight: bold;display: inline-block;line-height: 1.2em;}#sk-container-id-4 div.sk-label-container {text-align: center;}#sk-container-id-4 div.sk-container {/* jupyter's `normalize.less` sets `[hidden] { display: none; }` but bootstrap.min.css set `[hidden] { display: none !important; }` so we also need the `!important` here to be able to override the default hidden behavior on the sphinx rendered scikit-learn.org. See: https://github.com/scikit-learn/scikit-learn/issues/21755 */display: inline-block !important;position: relative;}#sk-container-id-4 div.sk-text-repr-fallback {display: none;}</style><div id=\"sk-container-id-4\" class=\"sk-top-container\"><div class=\"sk-text-repr-fallback\"><pre>DecisionTreeRegressor(ccp_alpha=1.5, random_state=21)</pre><b>In a Jupyter environment, please rerun this cell to show the HTML representation or trust the notebook. <br />On GitHub, the HTML representation is unable to render, please try loading this page with nbviewer.org.</b></div><div class=\"sk-container\" hidden><div class=\"sk-item\"><div class=\"sk-estimator sk-toggleable\"><input class=\"sk-toggleable__control sk-hidden--visually\" id=\"sk-estimator-id-6\" type=\"checkbox\" checked><label for=\"sk-estimator-id-6\" class=\"sk-toggleable__label sk-toggleable__label-arrow\">DecisionTreeRegressor</label><div class=\"sk-toggleable__content\"><pre>DecisionTreeRegressor(ccp_alpha=1.5, random_state=21)</pre></div></div></div></div></div>"
      ],
      "text/plain": [
       "DecisionTreeRegressor(ccp_alpha=1.5, random_state=21)"
      ]
     },
     "execution_count": 47,
     "metadata": {},
     "output_type": "execute_result"
    }
   ],
   "source": [
    "DTR = DecisionTreeRegressor(random_state=21,ccp_alpha=1.50)\n",
    "DTR.fit(xtrain,ytrain)"
   ]
  },
  {
   "cell_type": "code",
   "execution_count": 48,
   "id": "7df07de2",
   "metadata": {},
   "outputs": [],
   "source": [
    "tr_pred = DTR.predict(xtrain)\n",
    "ts_pred = DTR.predict(xtest)"
   ]
  },
  {
   "cell_type": "code",
   "execution_count": 49,
   "id": "f95ca40e",
   "metadata": {},
   "outputs": [],
   "source": [
    "tr_err = mean_absolute_error(ytrain,tr_pred)\n",
    "ts_err = mean_absolute_error(ytest,ts_pred)\n",
    "tr_sq_err = mean_squared_error(ytrain,tr_pred)\n",
    "ts_sq_err = mean_squared_error(ytest,ts_pred)\n",
    "tr_r2 = r2_score(ytrain,tr_pred)\n",
    "ts_r2 = r2_score(ytest,ts_pred)"
   ]
  },
  {
   "cell_type": "code",
   "execution_count": 50,
   "id": "5862f42f",
   "metadata": {},
   "outputs": [
    {
     "name": "stdout",
     "output_type": "stream",
     "text": [
      "Training Data : \n",
      "MAE :  6.799220949660439\n",
      "MSE :  90.62604639368408\n",
      "R2  :  0.9855368454688881\n"
     ]
    }
   ],
   "source": [
    "print(\"Training Data : \")\n",
    "print(\"MAE : \", tr_err)\n",
    "print(\"MSE : \", tr_sq_err)\n",
    "print(\"R2  : \", tr_r2)"
   ]
  },
  {
   "cell_type": "code",
   "execution_count": 51,
   "id": "6efcc347",
   "metadata": {},
   "outputs": [
    {
     "name": "stdout",
     "output_type": "stream",
     "text": [
      "Testing Data : \n",
      "MAE :  53.294122875396944\n",
      "MSE :  6685.048481511386\n",
      "R2  :  0.3352822930783157\n"
     ]
    }
   ],
   "source": [
    "print(\"Testing Data : \")\n",
    "print(\"MAE : \", ts_err)\n",
    "print(\"MSE : \", ts_sq_err)\n",
    "print(\"R2  : \", ts_r2)"
   ]
  },
  {
   "cell_type": "markdown",
   "id": "a958bf00",
   "metadata": {},
   "source": [
    "# Random forest"
   ]
  },
  {
   "cell_type": "code",
   "execution_count": 52,
   "id": "1a43213f",
   "metadata": {},
   "outputs": [],
   "source": [
    "from sklearn.ensemble import RandomForestRegressor\n",
    "rfr = RandomForestRegressor(n_estimators=4)\n",
    "model = rfr.fit(xtrain,ytrain)\n",
    "tr_pred = model.predict(xtrain)\n",
    "ts_pred = model.predict(xtest)\n",
    "tr_err = mean_absolute_error(ytrain,tr_pred)\n",
    "ts_err = mean_absolute_error(ytest,ts_pred)\n",
    "tr_sq_err = mean_squared_error(ytrain,tr_pred)\n",
    "ts_sq_err = mean_squared_error(ytest,ts_pred)\n",
    "tr_r2 = r2_score(ytrain,tr_pred)\n",
    "ts_r2 = r2_score(ytest,ts_pred)"
   ]
  },
  {
   "cell_type": "code",
   "execution_count": 53,
   "id": "a31cbb8a",
   "metadata": {},
   "outputs": [
    {
     "name": "stdout",
     "output_type": "stream",
     "text": [
      "Training Data : \n",
      "MAE :  18.852305462285095\n",
      "MSE :  1213.6407162055027\n",
      "R2  :  0.8063131525402966\n"
     ]
    }
   ],
   "source": [
    "print(\"Training Data : \")\n",
    "print(\"MAE : \", tr_err)\n",
    "print(\"MSE : \", tr_sq_err)\n",
    "print(\"R2  : \", tr_r2)"
   ]
  },
  {
   "cell_type": "code",
   "execution_count": 54,
   "id": "44d5e641",
   "metadata": {},
   "outputs": [
    {
     "name": "stdout",
     "output_type": "stream",
     "text": [
      "Testing Data : \n",
      "MAE :  47.80605910788838\n",
      "MSE :  6481.085433081606\n",
      "R2  :  0.3555630509851524\n"
     ]
    }
   ],
   "source": [
    "print(\"Testing Data : \")\n",
    "print(\"MAE : \", ts_err)\n",
    "print(\"MSE : \", ts_sq_err)\n",
    "print(\"R2  : \", ts_r2)"
   ]
  },
  {
   "cell_type": "markdown",
   "id": "ed562867",
   "metadata": {},
   "source": [
    "# Adaboost Regressor"
   ]
  },
  {
   "cell_type": "code",
   "execution_count": 55,
   "id": "8ff8c1d6",
   "metadata": {},
   "outputs": [],
   "source": [
    "from sklearn.ensemble import AdaBoostRegressor\n",
    "dtr = DecisionTreeRegressor()\n",
    "abr = AdaBoostRegressor(dtr,n_estimators=20)\n",
    "abr.fit(xtrain,ytrain)\n",
    "tr_pred = abr.predict(xtrain)\n",
    "ts_pred = abr.predict(xtest)\n",
    "tr_err = mean_absolute_error(ytrain,tr_pred)\n",
    "ts_err = mean_absolute_error(ytest,ts_pred)\n",
    "tr_sq_err = mean_squared_error(ytrain,tr_pred)\n",
    "ts_sq_err = mean_squared_error(ytest,ts_pred)\n",
    "tr_r2 = r2_score(ytrain,tr_pred)\n",
    "ts_r2 = r2_score(ytest,ts_pred)"
   ]
  },
  {
   "cell_type": "code",
   "execution_count": 56,
   "id": "b703e22d",
   "metadata": {},
   "outputs": [
    {
     "name": "stdout",
     "output_type": "stream",
     "text": [
      "Training Data : \n",
      "MAE :  1.6786893818462045\n",
      "MSE :  26.222593516756696\n",
      "R2  :  0.9958150946959349\n"
     ]
    }
   ],
   "source": [
    "print(\"Training Data : \")\n",
    "print(\"MAE : \", tr_err)\n",
    "print(\"MSE : \", tr_sq_err)\n",
    "print(\"R2  : \", tr_r2)"
   ]
  },
  {
   "cell_type": "code",
   "execution_count": 57,
   "id": "32520edd",
   "metadata": {},
   "outputs": [
    {
     "name": "stdout",
     "output_type": "stream",
     "text": [
      "Testing Data : \n",
      "MAE :  46.6078334431993\n",
      "MSE :  7228.192625841067\n",
      "R2  :  0.2812755747807183\n"
     ]
    }
   ],
   "source": [
    "print(\"Testing Data : \")\n",
    "print(\"MAE : \", ts_err)\n",
    "print(\"MSE : \", ts_sq_err)\n",
    "print(\"R2  : \", ts_r2)"
   ]
  },
  {
   "cell_type": "markdown",
   "id": "e751510d",
   "metadata": {},
   "source": [
    "# Nearest neighbors"
   ]
  },
  {
   "cell_type": "code",
   "execution_count": 58,
   "id": "a883a070",
   "metadata": {},
   "outputs": [],
   "source": [
    "from sklearn.neighbors import KNeighborsRegressor\n",
    "knr = KNeighborsRegressor(n_neighbors=3)\n",
    "knr = knr.fit(xtrain,ytrain)\n",
    "tr_pred = knr.predict(xtrain)\n",
    "ts_pred = knr.predict(xtest)\n",
    "tr_err = mean_absolute_error(ytrain,tr_pred)\n",
    "ts_err = mean_absolute_error(ytest,ts_pred)\n",
    "tr_sq_err = mean_squared_error(ytrain,tr_pred)\n",
    "ts_sq_err = mean_squared_error(ytest,ts_pred)\n",
    "tr_r2 = r2_score(ytrain,tr_pred)\n",
    "ts_r2 = r2_score(ytest,ts_pred)"
   ]
  },
  {
   "cell_type": "code",
   "execution_count": 59,
   "id": "5a4a2609",
   "metadata": {},
   "outputs": [
    {
     "name": "stdout",
     "output_type": "stream",
     "text": [
      "Training Data : \n",
      "MAE :  31.874250013761216\n",
      "MSE :  2415.8471774259538\n",
      "R2  :  0.6144511159752287\n"
     ]
    }
   ],
   "source": [
    "print(\"Training Data : \")\n",
    "print(\"MAE : \", tr_err)\n",
    "print(\"MSE : \", tr_sq_err)\n",
    "print(\"R2  : \", tr_r2)"
   ]
  },
  {
   "cell_type": "code",
   "execution_count": 60,
   "id": "6a2ffb11",
   "metadata": {},
   "outputs": [
    {
     "name": "stdout",
     "output_type": "stream",
     "text": [
      "Testing Data : \n",
      "MAE :  46.601003442466855\n",
      "MSE :  6403.7874490344\n",
      "R2  :  0.36324905937351815\n"
     ]
    }
   ],
   "source": [
    "print(\"Testing Data : \")\n",
    "print(\"MAE : \", ts_err)\n",
    "print(\"MSE : \", ts_sq_err)\n",
    "print(\"R2  : \", ts_r2)"
   ]
  },
  {
   "cell_type": "markdown",
   "id": "61a04219",
   "metadata": {},
   "source": [
    "# Creating test data ready for predictions"
   ]
  },
  {
   "cell_type": "code",
   "execution_count": 61,
   "id": "7bdb2400",
   "metadata": {},
   "outputs": [
    {
     "data": {
      "text/html": [
       "<div>\n",
       "<style scoped>\n",
       "    .dataframe tbody tr th:only-of-type {\n",
       "        vertical-align: middle;\n",
       "    }\n",
       "\n",
       "    .dataframe tbody tr th {\n",
       "        vertical-align: top;\n",
       "    }\n",
       "\n",
       "    .dataframe thead th {\n",
       "        text-align: right;\n",
       "    }\n",
       "</style>\n",
       "<table border=\"1\" class=\"dataframe\">\n",
       "  <thead>\n",
       "    <tr style=\"text-align: right;\">\n",
       "      <th></th>\n",
       "      <th>Loan_ID</th>\n",
       "      <th>Gender</th>\n",
       "      <th>Married</th>\n",
       "      <th>Dependents</th>\n",
       "      <th>Education</th>\n",
       "      <th>Self_Employed</th>\n",
       "      <th>ApplicantIncome</th>\n",
       "      <th>CoapplicantIncome</th>\n",
       "      <th>LoanAmount</th>\n",
       "      <th>Loan_Amount_Term</th>\n",
       "      <th>Credit_History</th>\n",
       "      <th>Property_Area</th>\n",
       "    </tr>\n",
       "  </thead>\n",
       "  <tbody>\n",
       "    <tr>\n",
       "      <th>0</th>\n",
       "      <td>LP001015</td>\n",
       "      <td>Male</td>\n",
       "      <td>Yes</td>\n",
       "      <td>0</td>\n",
       "      <td>Graduate</td>\n",
       "      <td>No</td>\n",
       "      <td>5720</td>\n",
       "      <td>0</td>\n",
       "      <td>110.0</td>\n",
       "      <td>360.0</td>\n",
       "      <td>1.000000</td>\n",
       "      <td>Urban</td>\n",
       "    </tr>\n",
       "    <tr>\n",
       "      <th>1</th>\n",
       "      <td>LP001022</td>\n",
       "      <td>Male</td>\n",
       "      <td>Yes</td>\n",
       "      <td>1</td>\n",
       "      <td>Graduate</td>\n",
       "      <td>No</td>\n",
       "      <td>3076</td>\n",
       "      <td>1500</td>\n",
       "      <td>126.0</td>\n",
       "      <td>360.0</td>\n",
       "      <td>1.000000</td>\n",
       "      <td>Urban</td>\n",
       "    </tr>\n",
       "    <tr>\n",
       "      <th>2</th>\n",
       "      <td>LP001031</td>\n",
       "      <td>Male</td>\n",
       "      <td>Yes</td>\n",
       "      <td>2</td>\n",
       "      <td>Graduate</td>\n",
       "      <td>No</td>\n",
       "      <td>5000</td>\n",
       "      <td>1800</td>\n",
       "      <td>208.0</td>\n",
       "      <td>360.0</td>\n",
       "      <td>1.000000</td>\n",
       "      <td>Urban</td>\n",
       "    </tr>\n",
       "    <tr>\n",
       "      <th>3</th>\n",
       "      <td>LP001035</td>\n",
       "      <td>Male</td>\n",
       "      <td>Yes</td>\n",
       "      <td>2</td>\n",
       "      <td>Graduate</td>\n",
       "      <td>No</td>\n",
       "      <td>2340</td>\n",
       "      <td>2546</td>\n",
       "      <td>100.0</td>\n",
       "      <td>360.0</td>\n",
       "      <td>0.825444</td>\n",
       "      <td>Urban</td>\n",
       "    </tr>\n",
       "    <tr>\n",
       "      <th>4</th>\n",
       "      <td>LP001051</td>\n",
       "      <td>Male</td>\n",
       "      <td>No</td>\n",
       "      <td>0</td>\n",
       "      <td>Not Graduate</td>\n",
       "      <td>No</td>\n",
       "      <td>3276</td>\n",
       "      <td>0</td>\n",
       "      <td>78.0</td>\n",
       "      <td>360.0</td>\n",
       "      <td>1.000000</td>\n",
       "      <td>Urban</td>\n",
       "    </tr>\n",
       "  </tbody>\n",
       "</table>\n",
       "</div>"
      ],
      "text/plain": [
       "    Loan_ID Gender Married Dependents     Education Self_Employed  \\\n",
       "0  LP001015   Male     Yes          0      Graduate            No   \n",
       "1  LP001022   Male     Yes          1      Graduate            No   \n",
       "2  LP001031   Male     Yes          2      Graduate            No   \n",
       "3  LP001035   Male     Yes          2      Graduate            No   \n",
       "4  LP001051   Male      No          0  Not Graduate            No   \n",
       "\n",
       "   ApplicantIncome  CoapplicantIncome  LoanAmount  Loan_Amount_Term  \\\n",
       "0             5720                  0       110.0             360.0   \n",
       "1             3076               1500       126.0             360.0   \n",
       "2             5000               1800       208.0             360.0   \n",
       "3             2340               2546       100.0             360.0   \n",
       "4             3276                  0        78.0             360.0   \n",
       "\n",
       "   Credit_History Property_Area  \n",
       "0        1.000000         Urban  \n",
       "1        1.000000         Urban  \n",
       "2        1.000000         Urban  \n",
       "3        0.825444         Urban  \n",
       "4        1.000000         Urban  "
      ]
     },
     "execution_count": 61,
     "metadata": {},
     "output_type": "execute_result"
    }
   ],
   "source": [
    "B.head()"
   ]
  },
  {
   "cell_type": "code",
   "execution_count": 62,
   "id": "bfc94c2b",
   "metadata": {},
   "outputs": [],
   "source": [
    "test = B.drop(labels=[\"Loan_ID\"],axis=1)\n",
    "Xsamp = preprocessing(test)"
   ]
  },
  {
   "cell_type": "code",
   "execution_count": 63,
   "id": "fc5eef51",
   "metadata": {},
   "outputs": [],
   "source": [
    "final_data_for_pred = Xsamp[list(xtrain.columns)]"
   ]
  },
  {
   "cell_type": "code",
   "execution_count": 64,
   "id": "c89f6c3f",
   "metadata": {},
   "outputs": [],
   "source": [
    "pred = DTR.predict(final_data_for_pred)"
   ]
  },
  {
   "cell_type": "code",
   "execution_count": 68,
   "id": "b15d202a",
   "metadata": {},
   "outputs": [],
   "source": [
    "Q = test[[\"Education\"]]"
   ]
  },
  {
   "cell_type": "code",
   "execution_count": 69,
   "id": "9d3c75d7",
   "metadata": {},
   "outputs": [],
   "source": [
    "Q['Loan_Amount']=pred"
   ]
  },
  {
   "cell_type": "code",
   "execution_count": 70,
   "id": "298399e1",
   "metadata": {},
   "outputs": [
    {
     "data": {
      "text/html": [
       "<div>\n",
       "<style scoped>\n",
       "    .dataframe tbody tr th:only-of-type {\n",
       "        vertical-align: middle;\n",
       "    }\n",
       "\n",
       "    .dataframe tbody tr th {\n",
       "        vertical-align: top;\n",
       "    }\n",
       "\n",
       "    .dataframe thead th {\n",
       "        text-align: right;\n",
       "    }\n",
       "</style>\n",
       "<table border=\"1\" class=\"dataframe\">\n",
       "  <thead>\n",
       "    <tr style=\"text-align: right;\">\n",
       "      <th></th>\n",
       "      <th>Education</th>\n",
       "      <th>Loan_Amount</th>\n",
       "    </tr>\n",
       "  </thead>\n",
       "  <tbody>\n",
       "    <tr>\n",
       "      <th>0</th>\n",
       "      <td>Graduate</td>\n",
       "      <td>142.000000</td>\n",
       "    </tr>\n",
       "    <tr>\n",
       "      <th>1</th>\n",
       "      <td>Graduate</td>\n",
       "      <td>122.500000</td>\n",
       "    </tr>\n",
       "    <tr>\n",
       "      <th>2</th>\n",
       "      <td>Graduate</td>\n",
       "      <td>220.000000</td>\n",
       "    </tr>\n",
       "    <tr>\n",
       "      <th>3</th>\n",
       "      <td>Graduate</td>\n",
       "      <td>124.482432</td>\n",
       "    </tr>\n",
       "    <tr>\n",
       "      <th>4</th>\n",
       "      <td>Not Graduate</td>\n",
       "      <td>93.000000</td>\n",
       "    </tr>\n",
       "    <tr>\n",
       "      <th>...</th>\n",
       "      <td>...</td>\n",
       "      <td>...</td>\n",
       "    </tr>\n",
       "    <tr>\n",
       "      <th>362</th>\n",
       "      <td>Not Graduate</td>\n",
       "      <td>153.603041</td>\n",
       "    </tr>\n",
       "    <tr>\n",
       "      <th>363</th>\n",
       "      <td>Graduate</td>\n",
       "      <td>135.666667</td>\n",
       "    </tr>\n",
       "    <tr>\n",
       "      <th>364</th>\n",
       "      <td>Graduate</td>\n",
       "      <td>162.000000</td>\n",
       "    </tr>\n",
       "    <tr>\n",
       "      <th>365</th>\n",
       "      <td>Graduate</td>\n",
       "      <td>179.000000</td>\n",
       "    </tr>\n",
       "    <tr>\n",
       "      <th>366</th>\n",
       "      <td>Graduate</td>\n",
       "      <td>180.400000</td>\n",
       "    </tr>\n",
       "  </tbody>\n",
       "</table>\n",
       "<p>367 rows × 2 columns</p>\n",
       "</div>"
      ],
      "text/plain": [
       "        Education  Loan_Amount\n",
       "0        Graduate   142.000000\n",
       "1        Graduate   122.500000\n",
       "2        Graduate   220.000000\n",
       "3        Graduate   124.482432\n",
       "4    Not Graduate    93.000000\n",
       "..            ...          ...\n",
       "362  Not Graduate   153.603041\n",
       "363      Graduate   135.666667\n",
       "364      Graduate   162.000000\n",
       "365      Graduate   179.000000\n",
       "366      Graduate   180.400000\n",
       "\n",
       "[367 rows x 2 columns]"
      ]
     },
     "execution_count": 70,
     "metadata": {},
     "output_type": "execute_result"
    }
   ],
   "source": [
    "Q"
   ]
  },
  {
   "cell_type": "code",
   "execution_count": 71,
   "id": "01ad7d12",
   "metadata": {},
   "outputs": [],
   "source": [
    "Q.to_csv(\"C:/Users/Administrator/OneDrive/Desktop/oan_Amount_Prediction(Reg_Problem.csv\",index=False)"
   ]
  },
  {
   "cell_type": "code",
   "execution_count": null,
   "id": "5f003bfe",
   "metadata": {},
   "outputs": [],
   "source": []
  }
 ],
 "metadata": {
  "kernelspec": {
   "display_name": "Python 3 (ipykernel)",
   "language": "python",
   "name": "python3"
  },
  "language_info": {
   "codemirror_mode": {
    "name": "ipython",
    "version": 3
   },
   "file_extension": ".py",
   "mimetype": "text/x-python",
   "name": "python",
   "nbconvert_exporter": "python",
   "pygments_lexer": "ipython3",
   "version": "3.11.4"
  }
 },
 "nbformat": 4,
 "nbformat_minor": 5
}
